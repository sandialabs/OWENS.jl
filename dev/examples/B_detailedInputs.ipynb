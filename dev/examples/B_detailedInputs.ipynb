{
 "cells": [
  {
   "cell_type": "markdown",
   "source": [
    "# Detailed Inputs\n",
    "\n",
    "In this example, we show the second level of what is going on behind the precompiled binary\n",
    "This would be appropriate if you need more customization in the run and design parameters than the\n",
    "input file currently allows, but your design still fits within the setupOWENS helper function etc."
   ],
   "metadata": {}
  },
  {
   "cell_type": "markdown",
   "source": [
    "First we import the packages.  If \"using\" was employed, then all of the functions of the packages\n",
    "specified would be made available, but \"import\" requires PackageName.FunctionName to be used unless\n",
    "the function was explicitely exported in the package.  If \"include(\"filepath/filename.jl)\" is used,\n",
    "that is the same as copying and pasting.  Please see the respective page on YAML input (TODO) for a\n",
    "description of the YAML inputs"
   ],
   "metadata": {}
  },
  {
   "outputs": [
    {
     "name": "stdout",
     "output_type": "stream",
     "text": [
      "┌ Warning: The old combined yaml file is being depreciated in favor of the windio yaml and the modelingoptions format\n",
      "└ @ OWENS ~/work/OWENS.jl/OWENS.jl/src/topRunDLC.jl:647\n"
     ]
    }
   ],
   "cell_type": "code",
   "source": [
    "import OWENS\n",
    "import OWENSAero\n",
    "#### import PyPlot\n",
    "runpath = path = \"/home/runner/work/OWENS.jl/OWENS.jl/examples/literate\" # to run locally, change to splitdir(@__FILE__)[1]\n",
    "# runpath = path = splitdir(@__FILE__)[1]\n",
    "Inp = OWENS.MasterInput(\"$runpath/sampleOWENS.yml\")\n",
    "\n",
    "nothing"
   ],
   "metadata": {},
   "execution_count": 1
  },
  {
   "cell_type": "markdown",
   "source": [
    "Unpack inputs, or you could directly input them here and bypass the file"
   ],
   "metadata": {}
  },
  {
   "outputs": [],
   "cell_type": "code",
   "source": [
    "verbosity = 1\n",
    "\n",
    "analysisType = Inp.analysisType\n",
    "turbineType = Inp.turbineType\n",
    "eta = Inp.eta\n",
    "Nbld = Inp.Nbld\n",
    "towerHeight = Inp.towerHeight\n",
    "rho = Inp.rho\n",
    "Vinf = Inp.Vinf\n",
    "controlStrategy = Inp.controlStrategy\n",
    "RPM = Inp.RPM\n",
    "Nslices = Inp.Nslices\n",
    "ntheta = Inp.ntheta\n",
    "structuralModel = Inp.structuralModel\n",
    "ntelem = Inp.ntelem\n",
    "nbelem = Inp.nbelem\n",
    "ncelem = Inp.ncelem\n",
    "nselem = Inp.nselem\n",
    "ifw = Inp.ifw\n",
    "WindType = Inp.WindType\n",
    "AeroModel = Inp.AeroModel\n",
    "windINPfilename = \"$(path)$(Inp.windINPfilename)\"\n",
    "ifw_libfile = Inp.ifw_libfile\n",
    "if ifw_libfile == \"nothing\"\n",
    "    ifw_libfile = nothing\n",
    "end\n",
    "Blade_Height = Inp.Blade_Height\n",
    "Blade_Radius = Inp.Blade_Radius\n",
    "numTS = Inp.numTS\n",
    "delta_t = Inp.delta_t\n",
    "NuMad_geom_xlscsv_file_twr = \"$(path)$(Inp.NuMad_geom_xlscsv_file_twr)\"\n",
    "NuMad_mat_xlscsv_file_twr = \"$(path)$(Inp.NuMad_mat_xlscsv_file_twr)\"\n",
    "NuMad_geom_xlscsv_file_bld = \"$(path)$(Inp.NuMad_geom_xlscsv_file_bld)\"\n",
    "NuMad_mat_xlscsv_file_bld = \"$(path)$(Inp.NuMad_mat_xlscsv_file_bld)\"\n",
    "NuMad_geom_xlscsv_file_strut = \"$(path)$(Inp.NuMad_geom_xlscsv_file_strut)\"\n",
    "NuMad_mat_xlscsv_file_strut = \"$(path)$(Inp.NuMad_mat_xlscsv_file_strut)\"\n",
    "adi_lib = Inp.adi_lib\n",
    "if adi_lib == \"nothing\"\n",
    "    adi_lib = nothing\n",
    "end\n",
    "adi_rootname = \"$(path)$(Inp.adi_rootname)\"\n",
    "\n",
    "B = Nbld\n",
    "R = Blade_Radius#177.2022*0.3048 #m\n",
    "H = Blade_Height#1.02*R*2 #m\n",
    "\n",
    "shapeZ = collect(LinRange(0,H,Nslices+1))\n",
    "shapeX = R.*(1.0.-4.0.*(shapeZ/H.-.5).^2)#shapeX_spline(shapeZ)\n",
    "\n",
    "nothing"
   ],
   "metadata": {},
   "execution_count": 2
  },
  {
   "cell_type": "markdown",
   "source": [
    "Call the helper function that builds the mesh, calculates the sectional properties,\n",
    "and aligns the sectional properties to the mesh elements,"
   ],
   "metadata": {}
  },
  {
   "outputs": [
    {
     "name": "stdout",
     "output_type": "stream",
     "text": [
      "Hub crossing at idx 1 and radially at 0.1 with AD15 hub radius of 0.1\n",
      "Moving strut point from [-0.1,6.123233995736766e-18,25.03658152124881] to [-0.1,6.123233995736766e-18,25.03658152124881]\n",
      "Hub crossing at idx 1 and radially at 0.1 with AD15 hub radius of 0.1\n",
      "Moving strut point from [0.04999999999999998,0.08660254037844388,25.03658152124881] to [0.04999999999999998,0.08660254037844388,25.03658152124881]\n",
      "Hub crossing at idx 1 and radially at 0.1 with AD15 hub radius of 0.1\n",
      "Moving strut point from [0.05000000000000004,-0.08660254037844385,25.03658152124881] to [0.05000000000000004,-0.08660254037844385,25.03658152124881]\n",
      "Hub crossing at idx 1 and radially at 0.1 with AD15 hub radius of 0.1\n",
      "Moving strut point from [-0.1,6.123233995736766e-18,91.1463270412512] to [-0.1,6.123233995736766e-18,91.1463270412512]\n",
      "Hub crossing at idx 1 and radially at 0.1 with AD15 hub radius of 0.1\n",
      "Moving strut point from [0.04999999999999998,0.08660254037844388,91.1463270412512] to [0.04999999999999998,0.08660254037844388,91.1463270412512]\n",
      "Hub crossing at idx 1 and radially at 0.1 with AD15 hub radius of 0.1\n",
      "Moving strut point from [0.05000000000000003,-0.08660254037844385,91.1463270412512] to [0.05000000000000003,-0.08660254037844385,91.1463270412512]\n",
      "┌ Warning: Data for SN curve control points not found in material file columns 23:28 for stress in Mpa, 29:33 for cycles in log10\n",
      "└ @ OWENS ~/work/OWENS.jl/OWENS.jl/src/fileio.jl:660\n",
      "┌ Warning: Data for SN curve control points not found in material file columns 23:28 for stress in Mpa, 29:33 for cycles in log10\n",
      "└ @ OWENS ~/work/OWENS.jl/OWENS.jl/src/fileio.jl:660\n",
      "┌ Warning: Data for SN curve control points not found in material file columns 23:28 for stress in Mpa, 29:33 for cycles in log10\n",
      "└ @ OWENS ~/work/OWENS.jl/OWENS.jl/src/fileio.jl:660\n",
      "┌ Warning: Data for SN curve control points not found in material file columns 23:28 for stress in Mpa, 29:33 for cycles in log10\n",
      "└ @ OWENS ~/work/OWENS.jl/OWENS.jl/src/fileio.jl:660\n",
      "┌ Warning: Data for SN curve control points not found in material file columns 23:28 for stress in Mpa, 29:33 for cycles in log10\n",
      "└ @ OWENS ~/work/OWENS.jl/OWENS.jl/src/fileio.jl:660\n",
      "┌ Warning: Data for SN curve control points not found in material file columns 23:28 for stress in Mpa, 29:33 for cycles in log10\n",
      "└ @ OWENS ~/work/OWENS.jl/OWENS.jl/src/fileio.jl:660\n",
      "┌ Warning: Data for SN curve control points not found in material file columns 23:28 for stress in Mpa, 29:33 for cycles in log10\n",
      "└ @ OWENS ~/work/OWENS.jl/OWENS.jl/src/fileio.jl:660\n",
      "┌ Warning: Data for SN curve control points not found in material file columns 23:28 for stress in Mpa, 29:33 for cycles in log10\n",
      "└ @ OWENS ~/work/OWENS.jl/OWENS.jl/src/fileio.jl:660\n",
      "┌ Warning: Data for SN curve control points not found in material file columns 23:28 for stress in Mpa, 29:33 for cycles in log10\n",
      "└ @ OWENS ~/work/OWENS.jl/OWENS.jl/src/fileio.jl:660\n",
      "┌ Warning: Data for SN curve control points not found in material file columns 23:28 for stress in Mpa, 29:33 for cycles in log10\n",
      "└ @ OWENS ~/work/OWENS.jl/OWENS.jl/src/fileio.jl:660\n",
      "Opening AeroDyn-Inflow library at: /home/runner/.julia/artifacts/40e731aa229ee668f59fa694053de285aeb6d77f/lib/libaerodyn_inflow_c_binding.so\n",
      "\n",
      " **************************************************************************************************\n",
      " AeroDyn-Inflow library\n",
      "\n",
      " Copyright (C) 2024 National Renewable Energy Laboratory\n",
      " Copyright (C) 2024 Envision Energy USA LTD\n",
      "\n",
      " This program is licensed under Apache License Version 2.0 and comes with ABSOLUTELY NO WARRANTY.\n",
      " See the \"LICENSE\" file distributed with this software for details.\n",
      " **************************************************************************************************\n",
      "\n",
      " AeroDyn-Inflow library-v2.5.0-3490-g24c05a74\n",
      " Compile Info:\n",
      "  - Compiler: GCC version 8.1.0\n",
      "  - Architecture: 64 bit\n",
      "  - Precision: double\n",
      "  - OpenMP: No\n",
      "  - Date: Nov  5 2024\n",
      "  - Time: 02:19:23\n",
      " Execution Info:\n",
      "  - Date: 05/28/2025\n",
      "  - Time: 22:58:52+0000\n",
      "\n",
      " Running ADI.\n",
      " Running AeroDyn.\n",
      " Running OLAF.\n",
      "  - Directory:         /home/runner/work/OWENS.jl/OWENS.jl/docs/src/examples\n",
      "  - RootName:          /home/runner/work/OWENS.jl/OWENS.jl/examples/literate/ExampleB.\n",
      "  - Reading advanced options for OLAF:\n",
      " [WARN] Line ignored: \"VERT2\"   DEFAULT      -10       30.   400     5.      5.     1     5.136    15.136  100\n",
      "  - OLAF regularization parameters (for wing 1):\n",
      "    WingReg (min/max) :  12.2425 25.2472\n",
      "    WakeReg (min/max) :  12.2425 25.2472\n",
      "    k = alpha delta nu:   0.0368\n",
      " Running InflowWind.\n",
      "┌ Warning: Not using the componetized model is being depreciated, please consider updating to return_componentized=true\n",
      "└ @ OWENS ~/work/OWENS.jl/OWENS.jl/src/SetupTurbine.jl:595\n"
     ]
    }
   ],
   "cell_type": "code",
   "source": [
    "mymesh,myel,myort,myjoint,sectionPropsArray,mass_twr, mass_bld,\n",
    "stiff_twr, stiff_bld,bld_precompinput,\n",
    "bld_precompoutput,plyprops_bld,numadIn_bld,lam_U_bld,lam_L_bld,\n",
    "twr_precompinput,twr_precompoutput,plyprops_twr,numadIn_twr,lam_U_twr,lam_L_twr,aeroForces,deformAero,\n",
    "mass_breakout_blds,mass_breakout_twr,system,assembly,sections,AD15bldNdIdxRng, AD15bldElIdxRng = OWENS.setupOWENS(OWENSAero,path;\n",
    "    rho,\n",
    "    Nslices,\n",
    "    ntheta,\n",
    "    RPM,\n",
    "    Vinf,\n",
    "    eta,\n",
    "    B,\n",
    "    H,\n",
    "    R,\n",
    "    shapeZ,\n",
    "    shapeX,\n",
    "    ifw,\n",
    "    WindType,\n",
    "    delta_t,\n",
    "    numTS,\n",
    "    adi_lib,\n",
    "    adi_rootname,\n",
    "    windINPfilename,\n",
    "    ifw_libfile,\n",
    "    NuMad_geom_xlscsv_file_twr,# = \"$path/data/NuMAD_Geom_SNL_5MW_ARCUS_Cables.csv\",\n",
    "    NuMad_mat_xlscsv_file_twr,# = \"$path/data/NuMAD_Materials_SNL_5MW_D_TaperedTower.csv\",\n",
    "    NuMad_geom_xlscsv_file_bld,# = \"$path/data/NuMAD_Geom_SNL_5MW_ARCUS.csv\",\n",
    "    NuMad_mat_xlscsv_file_bld,# = \"$path/data/NuMAD_Materials_SNL_5MW_D_Carbon_LCDT_ThickFoils_ThinSkin.csv\",\n",
    "    NuMad_geom_xlscsv_file_strut,\n",
    "    NuMad_mat_xlscsv_file_strut,\n",
    "    Htwr_base=towerHeight,\n",
    "    strut_twr_mountpoint = [0.2,0.8],\n",
    "    strut_bld_mountpoint = [0.2,0.8],\n",
    "    ntelem,\n",
    "    nbelem,\n",
    "    ncelem,\n",
    "    nselem,\n",
    "    joint_type = 0,\n",
    "    c_mount_ratio = 0.05,\n",
    "    AeroModel, #AD, DMS, AC\n",
    "    DynamicStallModel=\"BV\",\n",
    "    RPI=true,\n",
    "    cables_connected_to_blade_base = true,\n",
    "    meshtype = turbineType)\n",
    "\n",
    "nothing"
   ],
   "metadata": {},
   "execution_count": 3
  },
  {
   "cell_type": "markdown",
   "source": [
    "Optionally, we can run the finite element solver with gemetrically exact beam theory via GXBeam.jl\n",
    "this requires that the OWENS style inputs are converted to the GXBeam inputs.  This interface also\n",
    "includes the ability to output VTK files, which can be viewed in paraview.  We have adapted this interface\n",
    "to work with OWENS inputs as well."
   ],
   "metadata": {}
  },
  {
   "outputs": [],
   "cell_type": "code",
   "source": [
    "nothing"
   ],
   "metadata": {},
   "execution_count": 4
  },
  {
   "cell_type": "markdown",
   "source": [
    "If the sectional properties material files includes cost information, that is combined with the density\n",
    "to estimate the overall material cost of of materials in the blades"
   ],
   "metadata": {}
  },
  {
   "outputs": [
    {
     "name": "stdout",
     "output_type": "stream",
     "text": [
      "\n",
      "Blades' Mass Breakout\n",
      "CLA_5500 6890.098827630393 kg, 2.06 $/kg: $14193.60358491861\n",
      "CBX_2400 3243.4725862181945 kg, 2.1 $/kg: $6811.292431058208\n",
      "ETLX_2400 0.0 kg, 2.21 $/kg: $0.0\n",
      "Airex_C70_55 263.19915878291914 kg, 7.23 $/kg: $1902.9299180005055\n",
      "EBX_2400_x10 0.0 kg, 2.06 $/kg: $0.0\n",
      "ETLX_2400_x10 0.0 kg, 2.1 $/kg: $0.0\n",
      "Airex_C70_55_x10 0.0 kg, 7.23 $/kg: $0.0\n",
      "\n",
      "Tower Mass Breakout\n",
      "CLA_5500 133368.60013602406 kg, 2.06 $/kg: $274739.3162802096\n",
      "CBX_2400 32523.066445448334 kg, 2.1 $/kg: $68298.4395354415\n",
      "ETLX_2400 0.0 kg, 2.21 $/kg: $0.0\n",
      "Airex_C70_55 0.0 kg, 7.23 $/kg: $0.0\n",
      "EBX_2400_x10 0.0 kg, 2.06 $/kg: $0.0\n",
      "ETLX_2400_x10 0.0 kg, 2.1 $/kg: $0.0\n",
      "Airex_C70_55_x10 0.0 kg, 7.23 $/kg: $0.0\n",
      "Total Material Cost Blades: $22907.82593397732\n",
      "Total Material Cost Tower: $343037.7558156511\n",
      "Total Material Cost: $365945.5817496284\n"
     ]
    }
   ],
   "cell_type": "code",
   "source": [
    "if verbosity>0\n",
    "\n",
    "    println(\"\\nBlades' Mass Breakout\")\n",
    "    for (i,name) in enumerate(plyprops_bld.names)\n",
    "        println(\"$name $(mass_breakout_blds[i]) kg, $(plyprops_bld.costs[i]) \\$/kg: \\$$(mass_breakout_blds[i]*plyprops_bld.costs[i])\")\n",
    "    end\n",
    "\n",
    "    println(\"\\nTower Mass Breakout\")\n",
    "    for (i,name) in enumerate(plyprops_twr.names)\n",
    "        println(\"$name $(mass_breakout_twr[i]) kg, $(plyprops_twr.costs[i]) \\$/kg: \\$$(mass_breakout_twr[i]*plyprops_twr.costs[i])\")\n",
    "    end\n",
    "\n",
    "    println(\"Total Material Cost Blades: \\$$(sum(mass_breakout_blds.*plyprops_bld.costs))\")\n",
    "    println(\"Total Material Cost Tower: \\$$(sum(mass_breakout_twr.*plyprops_twr.costs))\")\n",
    "    println(\"Total Material Cost: \\$$(sum(mass_breakout_blds.*plyprops_bld.costs)+ sum(mass_breakout_twr.*plyprops_twr.costs))\")\n",
    "\n",
    "end\n",
    "\n",
    "nothing"
   ],
   "metadata": {},
   "execution_count": 5
  },
  {
   "cell_type": "markdown",
   "source": [
    "Here we apply the boundary conditions.  For this case, with a regular cantelever tower, the tower base node which is\n",
    "1 is constrained in all 6 degrees of freedom to have a displacement of 0.  You can change this displacement to allow for things\n",
    "like pretension, and you can apply boundary conditions to any node."
   ],
   "metadata": {}
  },
  {
   "outputs": [],
   "cell_type": "code",
   "source": [
    "pBC = [1 1 0\n",
    "1 2 0\n",
    "1 3 0\n",
    "1 4 0\n",
    "1 5 0\n",
    "1 6 0]\n",
    "\n",
    "nothing"
   ],
   "metadata": {},
   "execution_count": 6
  },
  {
   "cell_type": "markdown",
   "source": [
    "There are inputs for the overall coupled simulation, please see the api reference for specifics on all the options"
   ],
   "metadata": {}
  },
  {
   "outputs": [],
   "cell_type": "code",
   "source": [
    "if AeroModel==\"AD\"\n",
    "    AD15On = true\n",
    "else\n",
    "    AD15On = false\n",
    "end\n",
    "\n",
    "inputs = OWENS.Inputs(;verbosity,analysisType = structuralModel,\n",
    "tocp = [0.0,100000.1],\n",
    "Omegaocp = [RPM,RPM] ./ 60,\n",
    "tocp_Vinf = [0.0,100000.1],\n",
    "Vinfocp = [Vinf,Vinf],\n",
    "numTS,\n",
    "delta_t,\n",
    "AD15On,\n",
    "aeroLoadsOn = 2)\n",
    "\n",
    "nothing"
   ],
   "metadata": {},
   "execution_count": 7
  },
  {
   "cell_type": "markdown",
   "source": [
    "Then there are inputs for the finite element models, also, please see the api reference for specifics on the options (TODO: ensure that this is propogated to the docs)"
   ],
   "metadata": {}
  },
  {
   "outputs": [],
   "cell_type": "code",
   "source": [
    "feamodel = OWENS.FEAModel(;analysisType = structuralModel,\n",
    "dataOutputFilename = \"none\",\n",
    "joint = myjoint,\n",
    "platformTurbineConnectionNodeNumber = 1,\n",
    "pBC,\n",
    "nlOn = true,\n",
    "numNodes = mymesh.numNodes,\n",
    "RayleighAlpha = 0.05,\n",
    "RayleighBeta = 0.05,\n",
    "iterationType = \"DI\")\n",
    "\n",
    "nothing"
   ],
   "metadata": {},
   "execution_count": 8
  },
  {
   "cell_type": "markdown",
   "source": [
    "Here is where we actually call the unsteady simulation and where owens pulls the aero and structural solutions together\n",
    "and propogates things in time."
   ],
   "metadata": {}
  },
  {
   "outputs": [
    {
     "name": "stdout",
     "output_type": "stream",
     "text": [
      "Running Unsteady\n",
      "Running in specified rotor speed mode\n",
      "\n",
      "\r5.3%┣██▎                                        ┫ 1/19 [00:00<Inf:Inf, InfGs/it]\n",
      " [INFO] FVW: Update States: reevaluation at the same starting time.  This will not print on\n",
      " subsequent occurences.\n",
      "\u001b[1A\r10.5%┣████▉                                         ┫ 2/19 [00:23<06:35, 23s/it]\n",
      "\u001b[1A\r15.8%┣███████▎                                      ┫ 3/19 [00:24<03:14, 12s/it]\n",
      "\u001b[1A\r21.1%┣██████████                                     ┫ 4/19 [00:25<02:05, 8s/it]\n",
      "\u001b[1A\r26.3%┣████████████▍                                  ┫ 5/19 [00:26<01:31, 7s/it]\n",
      "\u001b[1A\r31.6%┣██████████████▉                                ┫ 6/19 [00:27<01:10, 5s/it]\n",
      "\u001b[1A\r36.8%┣█████████████████▎                             ┫ 7/19 [00:28<00:55, 5s/it]\n",
      "\u001b[1A\r42.1%┣███████████████████▉                           ┫ 8/19 [00:29<00:45, 4s/it]\n",
      "\u001b[1A\r47.4%┣██████████████████████▎                        ┫ 9/19 [00:29<00:37, 4s/it]\n",
      "\u001b[1A\r52.6%┣████████████████████████▏                     ┫ 10/19 [00:30<00:30, 3s/it]\n",
      "\u001b[1A\r57.9%┣██████████████████████████▋                   ┫ 11/19 [00:31<00:25, 3s/it]\n",
      "\u001b[1A\r63.2%┣█████████████████████████████                 ┫ 12/19 [00:32<00:20, 3s/it]\n",
      "\u001b[1A\r68.4%┣███████████████████████████████▌              ┫ 13/19 [00:33<00:16, 3s/it]\n",
      "\u001b[1A\r73.7%┣██████████████████████████████████            ┫ 14/19 [00:34<00:13, 3s/it]\n",
      "\u001b[1A\r78.9%┣████████████████████████████████████▎         ┫ 15/19 [00:34<00:10, 2s/it]\n",
      "\u001b[1A\r84.2%┣██████████████████████████████████████▊       ┫ 16/19 [00:35<00:07, 2s/it]\n",
      "\u001b[1A\r89.5%┣█████████████████████████████████████████▏    ┫ 17/19 [00:35<00:04, 2s/it]\n",
      "\u001b[1A\r94.7%┣███████████████████████████████████████████▋  ┫ 18/19 [00:36<00:02, 2s/it]\n",
      "\u001b[1A\r100.0%┣█████████████████████████████████████████████┫ 19/19 [00:37<00:00, 2s/it]\n",
      "Simulation Complete.\n",
      " >>> FINAL WRITE\n"
     ]
    }
   ],
   "cell_type": "code",
   "source": [
    "println(\"Running Unsteady\")\n",
    "t, aziHist,OmegaHist,OmegaDotHist,gbHist,gbDotHist,gbDotDotHist,FReactionHist,\n",
    "FTwrBsHist,genTorque,genPower,torqueDriveShaft,uHist,uHist_prp,epsilon_x_hist,epsilon_y_hist,\n",
    "epsilon_z_hist,kappa_x_hist,kappa_y_hist,kappa_z_hist = OWENS.Unsteady_Land(inputs;system,assembly,\n",
    "topModel=feamodel,topMesh=mymesh,topEl=myel,aero=aeroForces,deformAero)\n",
    "\n",
    "if AD15On #TODO: move this into the run functions\n",
    "    OWENS.OWENSOpenFASTWrappers.endTurb()\n",
    "end\n",
    "\n",
    "nothing"
   ],
   "metadata": {},
   "execution_count": 9
  },
  {
   "cell_type": "markdown",
   "source": [
    "Like described above, we can output vtk files viewable in paraview.  Here it is done for each time step and shows the\n",
    "deformations.  Additionaly, there is a method to input custom values and have them show up on the vtk surface mesh\n",
    "for example, strain, or reaction force, etc.  This is described in more detail in the api reference for the function and: TODO"
   ],
   "metadata": {}
  },
  {
   "outputs": [
    {
     "name": "stdout",
     "output_type": "stream",
     "text": [
      "Saving VTK time domain files\n"
     ]
    }
   ],
   "cell_type": "code",
   "source": [
    "println(\"Saving VTK time domain files\")\n",
    "OWENS.OWENSFEA_VTK(\"$path/vtk/SNLARCUS5MW_timedomain_TNBnltrue\",t,uHist,system,assembly,sections;scaling=1,azi=aziHist)\n",
    "\n",
    "nothing"
   ],
   "metadata": {},
   "execution_count": 10
  },
  {
   "cell_type": "markdown",
   "source": [
    "This helper function looks through all the loads and picks out the worst case safety factor in each of the stacks of composite lamina\n",
    "it also calculates analytical simply supported buckling safety factors"
   ],
   "metadata": {}
  },
  {
   "outputs": [
    {
     "name": "stdout",
     "output_type": "stream",
     "text": [
      "┌ Warning: extractSF is being depreciated in favor of safetyfactor_fatigue, which uses the componetized workflow\n",
      "└ @ OWENS ~/work/OWENS.jl/OWENS.jl/src/PostProcessing.jl:766\n",
      "Composite Ultimate and Buckling Safety Factors\n",
      "\n",
      "\n",
      "UPPER BLADE SURFACE\n",
      "Minimum Safety Factor on Surface: 6.867203588909989\n",
      "At time 0.015s at composite station 11 of 21 at lam 6 of 6\n",
      "Maximum Damage per hr: 28720.221606690317\n",
      "At composite station 14 of 21 at lam 2 of 6\n",
      "\n",
      "\n",
      "LOWER BLADE SURFACE\n",
      "Minimum Safety Factor on Surface: 6.801006867316413\n",
      "At time 0.015s at composite station 11 of 21 at lam 6 of 6\n",
      "Maximum Damage per hr: 21540.166205054287\n",
      "At composite station 6 of 21 at lam 2 of 6\n",
      "\n",
      "\n",
      "UPPER TOWER\n",
      "\n",
      "Minimum Safety Factor on tower Surface: 22.384199207647143\n",
      "At time 0.017s at composite station 18 of 21 at lam 1 of 1\n",
      "Maximum Damage per hr: 5385.041551480733\n",
      "At composite station 1 of 21 at lam 1 of 1\n",
      "\n",
      "\n",
      "Lower TOWER\n",
      "\n",
      "Minimum Safety Factor on tower Surface: 19.37474867160012\n",
      "At time 0.019s at composite station 14 of 21 at lam 1 of 1\n",
      "Maximum Damage per hr: 5385.041551786688\n",
      "At composite station 1 of 21 at lam 1 of 1\n"
     ]
    }
   ],
   "cell_type": "code",
   "source": [
    "##########################################\n",
    "#### Ultimate Failure #####\n",
    "##########################################\n",
    "\n",
    "massOwens,stress_U,SF_ult_U,SF_buck_U,stress_L,SF_ult_L,SF_buck_L,stress_TU,SF_ult_TU,\n",
    "SF_buck_TU,stress_TL,SF_ult_TL,SF_buck_TL,topstrainout_blade_U,topstrainout_blade_L,\n",
    "topstrainout_tower_U,topstrainout_tower_LtopDamage_blade_U,\n",
    "topDamage_blade_L,topDamage_tower_U,topDamage_tower_L = OWENS.extractSF(bld_precompinput,\n",
    "bld_precompoutput,plyprops_bld,numadIn_bld,lam_U_bld,lam_L_bld,\n",
    "twr_precompinput,twr_precompoutput,plyprops_twr,numadIn_twr,lam_U_twr,lam_L_twr,\n",
    "mymesh,myel,myort,Nbld,epsilon_x_hist,kappa_y_hist,kappa_z_hist,epsilon_z_hist,\n",
    "kappa_x_hist,epsilon_y_hist;verbosity, #Verbosity 0:no printing, 1: summary, 2: summary and spanwise worst safety factor # epsilon_x_hist_1,kappa_y_hist_1,kappa_z_hist_1,epsilon_z_hist_1,kappa_x_hist_1,epsilon_y_hist_1,\n",
    "composite_station_idx_U_strut = [1,6,3,2,5],\n",
    "composite_station_name_U_strut = [\"Leading Edge\",\"Trailing Edge\",\"Spar Cap\",\"Front Panel\",\"Rear Panel\"],\n",
    "composite_station_idx_L_strut = [1,6,3,2,5],\n",
    "composite_station_name_L_strut = [\"Leading Edge\",\"Trailing Edge\",\"Spar Cap\",\"Front Panel\",\"Rear Panel\"],\n",
    "composite_station_idx_U_bld = [1,6,3,2,5],\n",
    "composite_station_name_U_bld = [\"Leading Edge\",\"Trailing Edge\",\"Spar Cap\",\"Front Panel\",\"Rear Panel\"],\n",
    "composite_station_idx_L_bld = [1,6,3,2,5],\n",
    "composite_station_name_L_bld = [\"Leading Edge\",\"Trailing Edge\",\"Spar Cap\",\"Front Panel\",\"Rear Panel\"],\n",
    "Twr_LE_U_idx=1,Twr_LE_L_idx=1,\n",
    "AD15bldNdIdxRng,AD15bldElIdxRng,strut_precompoutput=nothing) #TODO: add in ability to have material safety factors and load safety factors\n",
    "\n",
    "nothing"
   ],
   "metadata": {},
   "execution_count": 11
  },
  {
   "cell_type": "markdown",
   "source": [
    "---\n",
    "\n",
    "*This notebook was generated using [Literate.jl](https://github.com/fredrikekre/Literate.jl).*"
   ],
   "metadata": {}
  }
 ],
 "nbformat_minor": 3,
 "metadata": {
  "language_info": {
   "file_extension": ".jl",
   "mimetype": "application/julia",
   "name": "julia",
   "version": "1.11.5"
  },
  "kernelspec": {
   "name": "julia-1.11",
   "display_name": "Julia 1.11.5",
   "language": "julia"
  }
 },
 "nbformat": 4
}
