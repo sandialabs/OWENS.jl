{
 "cells": [
  {
   "cell_type": "markdown",
   "source": [
    "# Marine Hydrokinetic RM2\n",
    "\n",
    "In this example we use the OWENS scripting method to model the RM2 turbine,\n",
    "based on “Experimental Study of a Reference Model Vertical-Axis Cross-Flow Turbine”, 2016, Bachant et al.\n",
    "While the windio modeling option based on input yaml files is also included in the OWENS.jl/examples directory,\n",
    "The scripting method enable much more flexibility and the ability to add detailed comments on the setup and use.\n",
    "Note that the documentation contains an API reference for nearly all of the functions where more details can be found\n",
    "also accessed via the julia REPL by loading the module of interest, and: ? ModuleName.functionname()\n",
    "\n",
    "![](../assets/RM2_wake.png)"
   ],
   "metadata": {}
  },
  {
   "cell_type": "markdown",
   "source": [
    "Load in all of the modules that we'll be using, and prettify the plotting options"
   ],
   "metadata": {}
  },
  {
   "outputs": [],
   "cell_type": "code",
   "source": [
    "import OWENS\n",
    "import OWENSAero\n",
    "import DelimitedFiles\n",
    "using Statistics:mean\n",
    "using Test\n",
    "import FLOWMath\n",
    "import HDF5"
   ],
   "metadata": {},
   "execution_count": 1
  },
  {
   "cell_type": "markdown",
   "source": [
    "import PyPlot\n",
    "PyPlot.pygui(true)\n",
    "PyPlot.rc(\"figure\", figsize=(4.5, 3))\n",
    "PyPlot.rc(\"font\", size=10.0)\n",
    "PyPlot.rc(\"lines\", linewidth=1.5)\n",
    "PyPlot.rc(\"lines\", markersize=3.0)\n",
    "PyPlot.rc(\"legend\", frameon=false)\n",
    "PyPlot.rc(\"axes.spines\", right=false, top=false)\n",
    "PyPlot.rc(\"figure.subplot\", left=.18, bottom=.17, top=0.9, right=.9)\n",
    "PyPlot.rc(\"figure\",max_open_warning=500)\n",
    "plot_cycle=[\"#348ABD\", \"#A60628\", \"#009E73\", \"#7A68A6\", \"#D55E00\", \"#CC79A7\"]"
   ],
   "metadata": {}
  },
  {
   "outputs": [],
   "cell_type": "code",
   "source": [
    "# path = runpath = splitdir(@__FILE__)[1]\n",
    "runpath = path = \"/home/runner/work/OWENS.jl/OWENS.jl/examples/literate\" # to run locally, change to splitdir(@__FILE__)[1]\n",
    "\n",
    "nothing"
   ],
   "metadata": {},
   "execution_count": 2
  },
  {
   "cell_type": "markdown",
   "source": [
    "Here we set the parametric inputs to the preprocessing and run methods.  Defaults are used otherwise\n",
    "Note that for the OpenFAST coupling, such as adi_lib, setting these to nothing will force the program\n",
    "to use the precompiled binaries that are part of the OWENS installation.\n",
    "Again, please refer the to API reference for more detailed options of inputs, but of note is that we are\n",
    "running with AeroModel = \"AD\" which will automatically generate all of the AeroDyn files necessary to run the\n",
    "structural definition generated here.  Also note that this scripting method relys on the NuMAD formatted CSV files\n",
    "for the composite layup that gets run through PreComp.jl to calculate the sectional properties. Finally, this\n",
    "has been shortened to enable automated deployment, update as desired."
   ],
   "metadata": {}
  },
  {
   "outputs": [],
   "cell_type": "code",
   "source": [
    "turbineType = \"H-VAWT\" # turbine type, for the automatic meshing\n",
    "Vinf = 1.2 # inflow velocity\n",
    "TSRrange = [3.5]#LinRange(1.0,5.0,2) range of tip speed ratios\n",
    "Nslices = 20 # vertical discretizations if DMS or AC aero model\n",
    "ntheta = 30 # azimuthal discretizations if DMS or AC aero model\n",
    "structuralModel = \"TNB\"\n",
    "ntelem = 100 # tower elements\n",
    "nbelem = 30 # blade elements\n",
    "nselem = 10 # strut elements\n",
    "ifw = false # use inflow wind, if DMS or AC aero model\n",
    "numTS = 21#321 # number of simulation time steps\n",
    "delta_t = 0.01 # simulation time step spacing\n",
    "adi_lib = nothing#\"$path/../../../../openfast/build/modules/aerodyn/libaerodyn_inflow_c_binding\"\n",
    "adi_rootname = \"$path/RM2\" # path and name that all the aerodyn files are saved with\n",
    "VTKsaveName = \"$path/vtk/RM2_medium\" # path and name that all OWENS VTK files are saved with\n",
    "tsave_idx = 1:1:numTS-1 #you don't have to save every timestep in VTK\n",
    "ifw_libfile = nothing#\"$path/../../../openfast/build/modules/inflowwind/libifw_c_binding\"\n",
    "fluid_density = 1000.0\n",
    "fluid_dyn_viscosity = 1.792E-3\n",
    "AddedMass_Coeff_Ca = 1.0 #For structural side added mass\n",
    "Aero_Buoyancy_Active = true # For buoyancy forcing, handled by the OWENSAero module\n",
    "AeroModel = \"DMS\"\n",
    "verbosity = 1 # verbosity level where higher is more\n",
    "if AeroModel==\"AD\"\n",
    "    AD15On = true\n",
    "else\n",
    "    AD15On = false\n",
    "end\n",
    "\n",
    "eta = 0.5 # blade-strut mount point ratio, fraction from leading edge\n",
    "number_of_blades = 3 # number of blades\n",
    "towerHeight = 0.2165 # height of the tower past the blades\n",
    "Blade_Height = 0.807 # height of the blades\n",
    "Blade_Radius = 0.5375 # radius of the turbine\n",
    "\n",
    "NuMad_geom_xlscsv_file_twr = \"$path/data_RM2/TowerGeom.csv\" #\n",
    "NuMad_mat_xlscsv_file_twr = \"$path/data_RM2/TowerMaterials.csv\"\n",
    "NuMad_geom_xlscsv_file_bld = \"$path/data_RM2/GeomBlades$AeroModel.csv\"\n",
    "NuMad_mat_xlscsv_file_bld = \"$path/data_RM2/materials_NuMAD.csv\"\n",
    "NuMad_geom_xlscsv_file_strut = \"$path/data_RM2/GeomStruts$AeroModel.csv\"\n",
    "NuMad_mat_xlscsv_file_strut = \"$path/data_RM2/materials_NuMAD.csv\"\n",
    "\n",
    "nothing"
   ],
   "metadata": {},
   "execution_count": 3
  },
  {
   "cell_type": "markdown",
   "source": [
    "For this simulation, using aerodyn (\"AD\"), we will use a turbulent inflow file, indicated as WindType 3\n",
    "We can let the built in OWENS library for turbsim generate the file as so. Modify the inp file to your liking and\n",
    "comment out the run command to run your own with more time"
   ],
   "metadata": {}
  },
  {
   "outputs": [
    {
     "output_type": "execute_result",
     "data": {
      "text/plain": "\"/home/runner/work/OWENS.jl/OWENS.jl/examples/literate/data_RM2/3mx3m1pt2msNTM.bts\""
     },
     "metadata": {},
     "execution_count": 4
    }
   ],
   "cell_type": "code",
   "source": [
    "WindType = 1\n",
    "windINPfilename = \"$path/data_RM2/3mx3m1pt2msNTM.bts\""
   ],
   "metadata": {},
   "execution_count": 4
  },
  {
   "cell_type": "markdown",
   "source": [
    "windINPfilename = \"$path/data_RM2/steady1pt2.inp\"\n",
    "run(`$(OWENS.OWENSOpenFASTWrappers.turbsim()) $(windINPfilename[1:end-3])inp`)"
   ],
   "metadata": {}
  },
  {
   "outputs": [],
   "cell_type": "code",
   "source": [
    "nothing"
   ],
   "metadata": {},
   "execution_count": 5
  },
  {
   "cell_type": "markdown",
   "source": [
    "Here we would set up to run multiple different inflow conditions, and we can\n",
    "allow the preprocessing to re-run each time since it only takes a few seconds.\n",
    "The for loop is commented out to enable this example to be parsed by the literate\n",
    "package that auto generates the docs."
   ],
   "metadata": {}
  },
  {
   "outputs": [
    {
     "name": "stdout",
     "output_type": "stream",
     "text": [
      "74.61775936587465\n"
     ]
    }
   ],
   "cell_type": "code",
   "source": [
    "CP = zeros(length(TSRrange))\n",
    "mymesh = []\n",
    "myel = []\n",
    "system = []\n",
    "assembly = []\n",
    "sections = []\n",
    "myjoint = []\n",
    "pBC = []\n",
    "# for (iTSR,TSR) in enumerate(collect(TSRrange))\n",
    "TSR = TSRrange[1]\n",
    "iTSR = 1\n",
    "    global Vinf\n",
    "    global mymesh\n",
    "    global myel\n",
    "    global system\n",
    "    global assembly\n",
    "    global sections\n",
    "    global myjoint\n",
    "    global pBC\n",
    "\n",
    "    omega = Vinf/Blade_Radius*TSR\n",
    "    RPM = omega * 60 / (2*pi)\n",
    "\n",
    "    println(RPM)\n",
    "\n",
    "    nothing"
   ],
   "metadata": {},
   "execution_count": 6
  },
  {
   "cell_type": "markdown",
   "source": [
    "Here we run the OWENS preprocessing, which creates the beam mesh and joints, calculates the sectional properties\n",
    "maps the sectional properties to the elements.  It also sets up the aero module being used."
   ],
   "metadata": {}
  },
  {
   "outputs": [
    {
     "name": "stdout",
     "output_type": "stream",
     "text": [
      "Hub crossing at idx 3 and radially at -0.007499999999999993 with AD15 hub radius of 0.1\n",
      "Moving strut point from [-0.1,6.1232339957367656e-18,0.6199998498604651] to [-0.1,6.1232339957367656e-18,0.6199998498604651]\n",
      "Hub crossing at idx 3 and radially at -0.007499999999999993 with AD15 hub radius of 0.1\n",
      "Moving strut point from [0.04999999999999998,0.08660254037844388,0.6199998498604651] to [0.04999999999999998,0.08660254037844388,0.6199998498604651]\n",
      "Hub crossing at idx 3 and radially at -0.007499999999999993 with AD15 hub radius of 0.1\n",
      "Moving strut point from [0.05000000000000004,-0.08660254037844385,0.6199998498604651] to [0.05000000000000004,-0.08660254037844385,0.6199998498604651]\n",
      "┌ Warning: Not using the componetized model is being depreciated, please consider updating to return_componentized=true\n",
      "└ @ OWENS ~/work/OWENS.jl/OWENS.jl/src/preprocessing/SetupTurbine.jl:358\n"
     ]
    }
   ],
   "cell_type": "code",
   "source": [
    "    shapeZ = collect(LinRange(0,Blade_Height,Nslices+1))\n",
    "    helix_angle = 0.0#-pi/4\n",
    "    shapeX = cos.(shapeZ/maximum(shapeZ)*helix_angle).*Blade_Radius\n",
    "    shapeY = sin.(shapeZ/maximum(shapeZ)*helix_angle).*Blade_Radius\n",
    "\n",
    "    mymesh,myel,myort,myjoint,sectionPropsArray,mass_twr, mass_bld,\n",
    "    stiff_twr, stiff_bld,bld_precompinput,\n",
    "    bld_precompoutput,plyprops_bld,numadIn_bld,lam_U_bld,lam_L_bld,\n",
    "    twr_precompinput,twr_precompoutput,plyprops_twr,numadIn_twr,lam_U_twr,lam_L_twr,aeroForces,deformAero,\n",
    "    mass_breakout_blds,mass_breakout_twr,system,assembly,sections,AD15bldNdIdxRng, AD15bldElIdxRng = OWENS.setupOWENS(OWENSAero,path;\n",
    "        rho=fluid_density,\n",
    "        mu=fluid_dyn_viscosity,\n",
    "        Nslices,\n",
    "        ntheta,\n",
    "        RPM,\n",
    "        Vinf,\n",
    "        eta,\n",
    "        B=number_of_blades,\n",
    "        H = Blade_Height,\n",
    "        R = Blade_Radius,\n",
    "        shapeZ,\n",
    "        shapeX,\n",
    "        shapeY,\n",
    "        ifw,\n",
    "        WindType,\n",
    "        delta_t,\n",
    "        numTS,\n",
    "        adi_lib,\n",
    "        adi_rootname,\n",
    "        windINPfilename,\n",
    "        ifw_libfile,\n",
    "        NuMad_geom_xlscsv_file_twr,\n",
    "        NuMad_mat_xlscsv_file_twr,\n",
    "        NuMad_geom_xlscsv_file_bld,\n",
    "        NuMad_mat_xlscsv_file_bld,\n",
    "        NuMad_geom_xlscsv_file_strut,\n",
    "        NuMad_mat_xlscsv_file_strut,\n",
    "        Htwr_base=towerHeight,\n",
    "        Htwr_blds = Blade_Height+towerHeight,\n",
    "        ntelem,\n",
    "        nbelem,\n",
    "        nselem,\n",
    "        joint_type = 0,\n",
    "        strut_twr_mountpoint = [0.5],\n",
    "        strut_bld_mountpoint = [0.5],\n",
    "        AeroModel, #AD, DMS, AC\n",
    "        DynamicStallModel=\"BV\",\n",
    "        Aero_AddedMass_Active = false,\n",
    "        Aero_RotAccel_Active = false,\n",
    "        AddedMass_Coeff_Ca,\n",
    "        Aero_Buoyancy_Active,\n",
    "        verbosity,\n",
    "        meshtype = turbineType)\n",
    "\n",
    "    nothing\n",
    "\n",
    "    # # PyPlot.figure()\n",
    "    # # for idot = 1:length(sectionPropsArray[170].xaf)\n",
    "    # #     PyPlot.scatter(sectionPropsArray[170].xaf[idot],sectionPropsArray[170].yaf[idot])\n",
    "    # #     sleep(0.001)\n",
    "    # # end\n",
    "    #\n",
    "    # ## This plots the mesh and node numbering of the resulting mesh and overlays the joint connections\n",
    "    #\n",
    "    # PyPlot.figure()\n",
    "    # for icon = 1:length(mymesh.conn[:,1])\n",
    "        # idx1 = mymesh.conn[icon,1]\n",
    "        # idx2 = mymesh.conn[icon,2]\n",
    "        # PyPlot.plot3D([mymesh.x[idx1],mymesh.x[idx2]],[mymesh.y[idx1],mymesh.y[idx2]],[mymesh.z[idx1],mymesh.z[idx2]],\"k.-\")\n",
    "        # PyPlot.plot3D([1,1],[1,1],[1,1],\"k.-\")\n",
    "        # PyPlot.text3D(mymesh.x[idx1].+rand()/30,mymesh.y[idx1].+rand()/30,mymesh.z[idx1].+rand()/30,\"$idx1\",ha=\"center\",va=\"center\")\n",
    "    # end\n",
    "    # for ijoint = 1:length(myjoint[:,1])\n",
    "        # idx2 = Int(myjoint[ijoint,2])\n",
    "        # idx1 = Int(myjoint[ijoint,3])\n",
    "        # PyPlot.plot3D([mymesh.x[idx1],mymesh.x[idx2]],[mymesh.y[idx1],mymesh.y[idx2]],[mymesh.z[idx1],mymesh.z[idx2]],\"r.-\")\n",
    "        # PyPlot.text3D(mymesh.x[idx1].+rand()/30,mymesh.y[idx1].+rand()/30,mymesh.z[idx1].+rand()/30,\"$idx1\",color=\"r\",ha=\"center\",va=\"center\")\n",
    "        # PyPlot.text3D(mymesh.x[idx2].+rand()/30,mymesh.y[idx2].+rand()/30,mymesh.z[idx2].+rand()/30,\"$idx2\",color=\"r\",ha=\"center\",va=\"center\")\n",
    "    # end\n",
    "    # PyPlot.xlabel(\"x\")\n",
    "    # PyPlot.ylabel(\"y\")\n",
    "    # PyPlot.zlabel(\"z\")\n",
    "    # PyPlot.axis(\"equal\")\n",
    "\n",
    "    nothing"
   ],
   "metadata": {},
   "execution_count": 7
  },
  {
   "cell_type": "markdown",
   "source": [
    "Here we apply the boundary conditions.  For this case, the tower base node which is\n",
    "1 is constrained in all 6 degrees of freedom to have a displacement of 0, and the tower top is also constrained.\n",
    "You can change this displacement to allow for things like pretension, and you can apply boundary conditions to any node."
   ],
   "metadata": {}
  },
  {
   "outputs": [],
   "cell_type": "code",
   "source": [
    "    pBC = [1 1 0\n",
    "    1 2 0\n",
    "    1 3 0\n",
    "    1 4 0\n",
    "    1 5 0\n",
    "    1 6 0\n",
    "    AD15bldElIdxRng[1,2]-1 1 0\n",
    "    AD15bldElIdxRng[1,2]-1 2 0\n",
    "    AD15bldElIdxRng[1,2]-1 3 0\n",
    "    AD15bldElIdxRng[1,2]-1 4 0\n",
    "    AD15bldElIdxRng[1,2]-1 5 0]\n",
    "\n",
    "    nothing"
   ],
   "metadata": {},
   "execution_count": 8
  },
  {
   "cell_type": "markdown",
   "source": [
    "There are inputs for the overall coupled simulation, please see the api reference for specifics on all the options: ? OWENS.Inputs()"
   ],
   "metadata": {}
  },
  {
   "outputs": [],
   "cell_type": "code",
   "source": [
    "    tocp = [0.0;10.0; 1e6]\n",
    "    Omegaocp = [RPM; RPM; RPM]./60 #control inputs\n",
    "\n",
    "    tocp_Vinf = [0.0;10.0; 1e6]\n",
    "    Vinfocp = [Vinf;Vinf;Vinf]\n",
    "\n",
    "    inputs = OWENS.Inputs(;verbosity,analysisType = structuralModel,\n",
    "    tocp,\n",
    "    dataOutputFilename = \"./InitialDataOutputs_scripting.out\",\n",
    "    Omegaocp,\n",
    "    tocp_Vinf,\n",
    "    Vinfocp,\n",
    "    numTS,\n",
    "    delta_t,\n",
    "    AD15On,\n",
    "    aeroLoadsOn = 2,\n",
    "    MAXITER = 20)\n",
    "\n",
    "    nothing"
   ],
   "metadata": {},
   "execution_count": 9
  },
  {
   "cell_type": "markdown",
   "source": [
    "Then there are inputs for the finite element models, also, please see the api reference for specifics on the options"
   ],
   "metadata": {}
  },
  {
   "outputs": [],
   "cell_type": "code",
   "source": [
    "    FEAinputs = OWENS.FEAModel(;analysisType = structuralModel,\n",
    "    dataOutputFilename = \"./InitialDataOutputs_scripting.out\",\n",
    "    joint = myjoint,\n",
    "    platformTurbineConnectionNodeNumber = 1,\n",
    "    pBC,\n",
    "    nlOn = false,\n",
    "    numModes = 70,\n",
    "    gravityOn = [0,0,9.81], #positive since the turbine is upside down\n",
    "    numNodes = mymesh.numNodes,\n",
    "    RayleighAlpha = 0.005,\n",
    "    RayleighBeta = 0.005,\n",
    "    AddedMass_Coeff_Ca,\n",
    "    iterationType = \"DI\")\n",
    "\n",
    "    nothing"
   ],
   "metadata": {},
   "execution_count": 10
  },
  {
   "cell_type": "markdown",
   "source": [
    "Here is where we actually call the unsteady simulation and where owens pulls the aero and structural solutions together\n",
    "and propogates things in time. Note that for the sake of quickly deployable docs, a shortened simulation is conducted and the CP will not be correct"
   ],
   "metadata": {}
  },
  {
   "outputs": [
    {
     "name": "stdout",
     "output_type": "stream",
     "text": [
      "Running Unsteady\n",
      "Running in specified rotor speed mode\n",
      "\n",
      "\r5.0%┣██▏                                        ┫ 1/20 [00:00<Inf:Inf, InfGs/it]\n",
      "\u001b[1A\r10.0%┣████▊                                          ┫ 2/20 [00:02<00:30, 2s/it]\n",
      "\u001b[1A\r15.0%┣███████                                        ┫ 3/20 [00:02<00:20, 1s/it]\n",
      "\u001b[1A\r20.0%┣█████████▍                                     ┫ 4/20 [00:04<00:20, 1s/it]\n",
      "\u001b[1A\r25.0%┣███████████▊                                   ┫ 5/20 [00:05<00:17, 1s/it]\n",
      "\u001b[1A\r30.0%┣██████████████                                 ┫ 6/20 [00:05<00:15, 1s/it]\n",
      "\u001b[1A\r35.0%┣████████████████▌                              ┫ 7/20 [00:06<00:13, 1s/it]\n",
      "\u001b[1A\r40.0%┣██████████████████▉                            ┫ 8/20 [00:07<00:12, 1it/s]\n",
      "\u001b[1A\r45.0%┣█████████████████████▏                         ┫ 9/20 [00:08<00:11, 1it/s]\n",
      "\u001b[1A\r50.0%┣███████████████████████                       ┫ 10/20 [00:09<00:10, 1it/s]\n",
      "\u001b[1A\r55.0%┣█████████████████████████▎                    ┫ 11/20 [00:10<00:09, 1it/s]\n",
      "\u001b[1A\r60.0%┣███████████████████████████▋                  ┫ 12/20 [00:11<00:08, 1it/s]\n",
      "\u001b[1A\r65.0%┣██████████████████████████████                ┫ 13/20 [00:11<00:07, 1it/s]\n",
      "\u001b[1A\r70.0%┣████████████████████████████████▏             ┫ 14/20 [00:12<00:06, 1it/s]\n",
      "\u001b[1A\r75.0%┣██████████████████████████████████▌           ┫ 15/20 [00:13<00:05, 1it/s]\n",
      "\u001b[1A\r80.0%┣████████████████████████████████████▉         ┫ 16/20 [00:14<00:04, 1it/s]\n",
      "\u001b[1A\r85.0%┣███████████████████████████████████████       ┫ 17/20 [00:15<00:03, 1it/s]\n",
      "\u001b[1A\r90.0%┣█████████████████████████████████████████▍    ┫ 18/20 [00:16<00:02, 1it/s]\n",
      "\u001b[1A\r95.0%┣███████████████████████████████████████████▊  ┫ 19/20 [00:16<00:01, 1it/s]\n",
      "\u001b[1A\r100.0%┣█████████████████████████████████████████████┫ 20/20 [00:17<00:00, 1it/s]\n",
      "Simulation Complete.\n"
     ]
    }
   ],
   "cell_type": "code",
   "source": [
    "    println(\"Running Unsteady\")\n",
    "    t, aziHist,OmegaHist,OmegaDotHist,gbHist,gbDotHist,gbDotDotHist,FReactionHist,\n",
    "    FTwrBsHist,genTorque,genPower,torqueDriveShaft,uHist,uHist_prp,epsilon_x_hist,epsilon_y_hist,\n",
    "    epsilon_z_hist,kappa_x_hist,kappa_y_hist,kappa_z_hist,FPtfmHist,FHydroHist,FMooringHist,\n",
    "    topFexternal_hist,rbDataHist = OWENS.Unsteady_Land(inputs;system,assembly,\n",
    "    topModel=FEAinputs,topMesh=mymesh,topEl=myel,aero=aeroForces,deformAero,turbsimfile = windINPfilename)\n",
    "\n",
    "    area = Blade_Height*2*Blade_Radius\n",
    "    full_rev_N_timesteps = round(Int,RPM/60/delta_t)*2\n",
    "    if full_rev_N_timesteps>numTS\n",
    "        idx_start = 1\n",
    "    else\n",
    "        idx_start = numTS-full_rev_N_timesteps\n",
    "    end\n",
    "    CP[iTSR] = mean(FReactionHist[idx_start:end,6].*OmegaHist[idx_start:end]*2*pi)/(0.5*fluid_density*mean(Vinfocp)^3*area)\n",
    "    TSR = mean(OmegaHist*2*pi*Blade_Radius/mean(Vinfocp))\n",
    "    ReD = fluid_density*mean(Vinfocp)*Blade_Radius*2/fluid_dyn_viscosity\n",
    "\n",
    "    nothing"
   ],
   "metadata": {},
   "execution_count": 11
  },
  {
   "cell_type": "markdown",
   "source": [
    "We can output vtk files viewable in paraview.  Here it is done for each time step and shows the\n",
    "deformations.  Additionaly, there is a method to input custom values and have them show up on the vtk surface mesh\n",
    "for example, strain, or reaction force, etc.  This is described in more detail in the api reference for the function\n",
    "This helper function looks through all the loads and picks out the worst case safety factor in each of the stacks of composite lamina\n",
    "it also calculates analytical simply supported buckling safety factors"
   ],
   "metadata": {}
  },
  {
   "outputs": [
    {
     "name": "stdout",
     "output_type": "stream",
     "text": [
      "┌ Warning: extractSF is being depreciated in favor of safetyfactor_fatigue, which uses the componetized workflow\n",
      "└ @ OWENS ~/work/OWENS.jl/OWENS.jl/src/postprocess/PostProcessing.jl:929\n",
      "Composite Ultimate and Buckling Safety Factors\n",
      "\n",
      "\n",
      "UPPER BLADE SURFACE\n",
      "Minimum Safety Factor on Surface: 6.141882545992074\n",
      "At time 0.06s at composite station 3 of 5 at lam 4 of 6\n",
      "Maximum Damage per hr: 6.530092170873317e-6\n",
      "At composite station 3 of 5 at lam 4 of 6\n",
      "\n",
      "\n",
      "LOWER BLADE SURFACE\n",
      "Minimum Safety Factor on Surface: 7.978859481354714\n",
      "At time 0.06s at composite station 3 of 5 at lam 4 of 6\n",
      "Maximum Damage per hr: 1.4128528445925091e-8\n",
      "At composite station 3 of 5 at lam 4 of 6\n",
      "\n",
      "\n",
      "UPPER TOWER\n",
      "\n",
      "Minimum Safety Factor on tower Surface: 22.284561047379338\n",
      "At time 0.02s at composite station 9 of 15 at lam 1 of 1\n",
      "Maximum Damage per hr: 6.845385254069244e-11\n",
      "At composite station 9 of 15 at lam 1 of 1\n",
      "\n",
      "\n",
      "Lower TOWER\n",
      "\n",
      "Minimum Safety Factor on tower Surface: 49.721098778305375\n",
      "At time 0.07s at composite station 9 of 15 at lam 1 of 1\n",
      "Maximum Damage per hr: 5.7495942982512903e-11\n",
      "At composite station 9 of 15 at lam 1 of 1\n",
      "WRITING Output File to ./InitialDataOutputs_scripting.out\n"
     ]
    },
    {
     "output_type": "execute_result",
     "data": {
      "text/plain": "28140"
     },
     "metadata": {},
     "execution_count": 12
    }
   ],
   "cell_type": "code",
   "source": [
    "    ##########################################\n",
    "    #### Ultimate Failure #####\n",
    "    ##########################################\n",
    "\n",
    "    massOwens,stress_U,SF_ult_U,SF_buck_U,stress_L,SF_ult_L,SF_buck_L,stress_TU,SF_ult_TU,\n",
    "    SF_buck_TU,stress_TL,SF_ult_TL,SF_buck_TL,topstrainout_blade_U,topstrainout_blade_L,\n",
    "    topstrainout_tower_U,topstrainout_tower_L,topDamage_blade_U,\n",
    "    topDamage_blade_L,topDamage_tower_U,topDamage_tower_L = OWENS.extractSF(bld_precompinput,\n",
    "    bld_precompoutput,plyprops_bld,numadIn_bld,lam_U_bld,lam_L_bld,\n",
    "    twr_precompinput,twr_precompoutput,plyprops_twr,numadIn_twr,lam_U_twr,lam_L_twr,\n",
    "    mymesh,myel,myort,number_of_blades,epsilon_x_hist,kappa_y_hist,kappa_z_hist,epsilon_z_hist,\n",
    "    kappa_x_hist,epsilon_y_hist;verbosity, #Verbosity 0:no printing, 1: summary, 2: summary and spanwise worst safety factor\n",
    "    Twr_LE_U_idx=1,Twr_LE_L_idx=1,delta_t,\n",
    "    AD15bldNdIdxRng,AD15bldElIdxRng,strut_precompoutput=nothing)\n",
    "\n",
    "    OWENS.outputData(;mymesh,inputs,t,aziHist,OmegaHist,OmegaDotHist,gbHist,gbDotHist,gbDotDotHist,FReactionHist,genTorque,genPower,torqueDriveShaft,uHist,uHist_prp,epsilon_x_hist,epsilon_y_hist,epsilon_z_hist,kappa_x_hist,kappa_y_hist,kappa_z_hist,FTwrBsHist,massOwens,stress_U,SF_ult_U,SF_buck_U,stress_L,SF_ult_L,SF_buck_L,stress_TU,SF_ult_TU,SF_buck_TU,stress_TL,SF_ult_TL,SF_buck_TL,topstrainout_blade_U,topstrainout_blade_L,topstrainout_tower_U,topstrainout_tower_L,topDamage_blade_U,topDamage_blade_L,topDamage_tower_U,topDamage_tower_L)\n",
    "\n",
    "    # OWENS.OWENSVTK(VTKsaveName,t,uHist,system,assembly,sections,aziHist,mymesh,myel,\n",
    "    #     epsilon_x_hist,epsilon_y_hist,epsilon_z_hist,kappa_x_hist,kappa_y_hist,kappa_z_hist,\n",
    "    #     FReactionHist,topFexternal_hist;tsave_idx)\n",
    "\n",
    "\n",
    "# end\n",
    "\n",
    "# PyPlot.figure(\"CP2\")\n",
    "# PyPlot.plot(TSRrange,CP,\".-\",color=plot_cycle[2],label=\"OWENS Aero, 1.3 RE_d (No Added Mass)\") #,color=color_cycle[2]\n",
    "# RM2_0_538D_RE_D_1_3E6 = DelimitedFiles.readdlm(\"$(path)/data_RM2/RM2_0.538D_RE_D_1.3E6.csv\", ',',Float64)\n",
    "# PyPlot.plot(RM2_0_538D_RE_D_1_3E6[:,1],RM2_0_538D_RE_D_1_3E6[:,2],\"k-\",label=\"Exp. 1.3e6 RE_d\")\n",
    "# PyPlot.legend()\n",
    "# PyPlot.xlabel(\"TSR\")\n",
    "# PyPlot.ylabel(\"Cp\")\n",
    "\n",
    "Qinst = -FReactionHist[idx_start:end,6]\n",
    "Qinst2 = topFexternal_hist[idx_start:end,6]\n",
    "\n",
    "drag = FReactionHist[idx_start:end,1] #./ (0.5*fluid_density*mean(Vinfocp)^2*area)\n",
    "drag2 = topFexternal_hist[idx_start:end,1] #./ (0.5*fluid_density*mean(Vinfocp)^2*area)\n",
    "\n",
    "dat_strt = round(Int,160800/80*11.0)\n",
    "dat_end = round(Int,160800/80*14.0)\n",
    "\n",
    "# # Open the HDF5 file in read mode\n",
    "# carriage_pos = nothing\n",
    "# drag_left = nothing\n",
    "# drag_right = nothing\n",
    "# time = nothing\n",
    "# torque_arm = nothing\n",
    "# torque_trans = nothing\n",
    "# turbine_angle = nothing\n",
    "# # This data is located at https://figshare.com/articles/dataset/UNH_RM2_tow_tank_experiment_Raw_data/1302029, with the file matching that here\n",
    "# c = HDF5.h5open(\"$path/data_RM2/Perf1.2b_16_nidata.h5\", \"r\") do file\n",
    "#     global carriage_pos = read(file,\"data/carriage_pos\")\n",
    "#     global drag_left = read(file,\"data/drag_left\")\n",
    "#     global drag_right = read(file,\"data/drag_right\")\n",
    "#     global time = read(file,\"data/time\")\n",
    "#     global torque_arm = read(file,\"data/torque_arm\")\n",
    "#     global torque_trans = read(file,\"data/torque_trans\")\n",
    "#     global turbine_angle = read(file,\"data/turbine_angle\")\n",
    "# end\n",
    "\n",
    "\n",
    "\n",
    "# PyPlot.figure()\n",
    "# PyPlot.plot((t[idx_start:end].-t[idx_start]),Qinst,\".-\",color=plot_cycle[1],label=\"Reaction\") #,color=color_cycle[2]\n",
    "# # PyPlot.plot((t[idx_start:end].-t[idx_start]),-Qinst2,\"x-\",color=plot_cycle[2],label=\"Applied\") #,color=color_cycle[2]\n",
    "# PyPlot.plot(time[dat_strt:dat_end].-time[dat_strt],torque_trans[dat_strt:dat_end],\"k-\",label=\"Exp. \")\n",
    "# PyPlot.legend()\n",
    "# PyPlot.xlabel(\"Time (s)\")\n",
    "# PyPlot.ylabel(\"Q (instantaneous)\")\n",
    "#\n",
    "# PyPlot.figure()\n",
    "# # PyPlot.plot((t[idx_start:end].-t[idx_start]),drag,\".-\",color=plot_cycle[1],label=\"Reaction\") #,color=color_cycle[2]\n",
    "# PyPlot.plot((t[idx_start:end].-t[idx_start]),drag2,\"x-\",color=plot_cycle[2],label=\"Applied\") #,color=color_cycle[2]\n",
    "# PyPlot.plot(time[dat_strt:dat_end].-time[dat_strt],drag_left[dat_strt:dat_end],\"k-\",label=\"Exp. L\")\n",
    "# PyPlot.plot(time[dat_strt:dat_end].-time[dat_strt],drag_right[dat_strt:dat_end],\"k--\",label=\"Exp. R\")\n",
    "# PyPlot.legend()\n",
    "# PyPlot.xlabel(\"Time (s)\")\n",
    "# PyPlot.ylabel(\"Drag (instantaneous)\")\n",
    "\n",
    "# nothing\n",
    "\n",
    "# # Calculate mean Q and compare\n",
    "# mean_Q_owens = mean(Qinst)\n",
    "# mean_Q_exp = mean(torque_trans[dat_strt:dat_end])\n",
    "# println(\"Percent Difference in Torque: $((mean_Q_owens-mean_Q_exp)/mean_Q_exp*100)\")\n",
    "\n",
    "# dat_strt = round(Int,160800/80*10)\n",
    "# dat_end = round(Int,160800/80*10.5)\n",
    "# amp_Q_exp = maximum(torque_trans[dat_strt:dat_end])-minimum(torque_trans[dat_strt:dat_end])\n",
    "# amp_Q_owens = maximum(Qinst[end-round(Int,0.5/delta_t):end])-minimum(Qinst[end-round(Int,0.5/delta_t):end])\n",
    "# println(\"Percent Difference in Amplitude: $((amp_Q_owens-amp_Q_exp)/amp_Q_exp*100)\")"
   ],
   "metadata": {},
   "execution_count": 12
  },
  {
   "cell_type": "markdown",
   "source": [
    "Here we use the automated campbell diagram function to run the modal analysis of the turbine and save the modeshapes to VTK"
   ],
   "metadata": {}
  },
  {
   "outputs": [
    {
     "name": "stdout",
     "output_type": "stream",
     "text": [
      "1 of 2\n",
      "2 of 2\n",
      "Saving Modeshapes to VTK\n"
     ]
    }
   ],
   "cell_type": "code",
   "source": [
    "rotSpdArrayRPM = [0.0, 42.64]\n",
    "\n",
    "FEAinputs = OWENS.FEAModel(;analysisType = \"GX\",\n",
    "dataOutputFilename = \"none\",\n",
    "joint = myjoint,\n",
    "platformTurbineConnectionNodeNumber = 1,\n",
    "pBC,\n",
    "nlOn = false,\n",
    "gravityOn = [0,0,9.81], #positive since the turbine is upside down\n",
    "numNodes = mymesh.numNodes,\n",
    "RayleighAlpha = 0.05,\n",
    "RayleighBeta = 0.05,\n",
    "AddedMass_Coeff_Ca,\n",
    "iterationType = \"DI\")\n",
    "\n",
    "freq2 = OWENS.AutoCampbellDiagram(FEAinputs,mymesh,myel,system,assembly,sections;\n",
    "    rotSpdArrayRPM,\n",
    "    VTKsavename=VTKsaveName,\n",
    "    saveModes = [1,3,5], #must be int\n",
    "    saveRPM = [2], #must be int\n",
    "    mode_scaling = 500.0,\n",
    "    )\n",
    "freqGX = [freq2[:,i] for i=1:2:FEAinputs.numModes-6-2]\n",
    "\n",
    "nothing\n",
    "\n",
    "# Now the Campbell diagram can be generated\n",
    "# NperRevLines = 8\n",
    "# PyPlot.figure()\n",
    "# for i=1:NperRevLines\n",
    "#     linex=[rotSpdArrayRPM[1], rotSpdArrayRPM[end]+5]\n",
    "#     liney=[rotSpdArrayRPM[1], rotSpdArrayRPM[end]+5].*i./60.0\n",
    "#     PyPlot.plot(linex,liney,\"--k\",linewidth=0.5)\n",
    "#     PyPlot.annotate(\"$i P\",xy=(0.95*linex[2],liney[2]+.05+(i-1)*.01))\n",
    "# end\n",
    "# PyPlot.grid()\n",
    "# PyPlot.xlabel(\"Rotor Speed (RPM)\")\n",
    "# PyPlot.ylabel(\"Frequency (Hz)\")\n",
    "# PyPlot.plot(0,0,\"k-\",label=\"Experimental\")\n",
    "# PyPlot.plot(0,0,color=plot_cycle[1],\"-\",label=\"OWENS\")\n",
    "# PyPlot.legend()\n",
    "\n",
    "# for i=1:1:FEAinputs.numModes\n",
    "#        PyPlot.plot(rotSpdArrayRPM,freq2[:,i],color=plot_cycle[2],\"-\") #plot mode i at various rotor speeds\n",
    "# end\n",
    "# PyPlot.plot(0,0,color=plot_cycle[2],\"-\",label=\"GXBeam\")\n",
    "# PyPlot.legend(fontsize=8.5,loc = (0.09,0.8),ncol=2,handleheight=1.8, labelspacing=0.03)\n",
    "# PyPlot.ylim([0,40.0])\n",
    "\n",
    "nothing"
   ],
   "metadata": {},
   "execution_count": 13
  },
  {
   "cell_type": "markdown",
   "source": [
    "---\n",
    "\n",
    "*This notebook was generated using [Literate.jl](https://github.com/fredrikekre/Literate.jl).*"
   ],
   "metadata": {}
  }
 ],
 "nbformat_minor": 3,
 "metadata": {
  "language_info": {
   "file_extension": ".jl",
   "mimetype": "application/julia",
   "name": "julia",
   "version": "1.11.6"
  },
  "kernelspec": {
   "name": "julia-1.11",
   "display_name": "Julia 1.11.6",
   "language": "julia"
  }
 },
 "nbformat": 4
}
