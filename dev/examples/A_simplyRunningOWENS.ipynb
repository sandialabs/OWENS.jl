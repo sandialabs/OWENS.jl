{
 "cells": [
  {
   "cell_type": "markdown",
   "source": [
    "# Simply Running OWENS\n",
    "\n",
    "In this example, we show the first level of what is going on behind the precompiled binary\n",
    "Running julia directly with this as a starting point could make things like automating many runs in\n",
    "a way that is not compatible with the current interface, but your design design fits.\n",
    "\n",
    "OWENS is comprised of many building blocks.  These series of examples progressively shows the internals\n",
    "of several of the key building blocks a new user might employ for their projects.  Fundamentally, OWENS has been\n",
    "built to be as generalizable as possible. The lowest level of building blocks enable this, however, there are many\n",
    "common use cases for which helper functions have been developed, such as for meshing certain standard architectures\n",
    "and calculating and applying sectional properties to these architectures. The figure below summarizes this at a high\n",
    "level.\n",
    "\n",
    "![](../assets/OWENS_Example_Figure_Building_Blocks.png)"
   ],
   "metadata": {}
  },
  {
   "outputs": [
    {
     "name": "stdout",
     "output_type": "stream",
     "text": [
      "Running: WINDIO Example\n",
      "controlStrategy: prescribedRPM\n",
      "Hub crossing at idx 1 and radially at 0.1 with AD15 hub radius of 0.1\n",
      "Moving strut point from [-0.09999999999999999,6.1232339957367656e-18,15.120120012] to [-0.09999999999999999,6.1232339957367656e-18,15.120120012]\n",
      "Hub crossing at idx 1 and radially at 0.1 with AD15 hub radius of 0.1\n",
      "Moving strut point from [0.04999999999999998,0.08660254037844387,15.120120012] to [0.04999999999999998,0.08660254037844387,15.120120012]\n",
      "Hub crossing at idx 1 and radially at 0.1 with AD15 hub radius of 0.1\n",
      "Moving strut point from [0.05000000000000003,-0.08660254037844385,15.120120012] to [0.05000000000000003,-0.08660254037844385,15.120120012]\n",
      "Hub crossing at idx 1 and radially at 0.1 with AD15 hub radius of 0.1\n",
      "Moving strut point from [-0.09999999999999999,6.1232339957367656e-18,101.062789188] to [-0.09999999999999999,6.1232339957367656e-18,101.062789188]\n",
      "Hub crossing at idx 1 and radially at 0.1 with AD15 hub radius of 0.1\n",
      "Moving strut point from [0.04999999999999998,0.08660254037844387,101.062789188] to [0.04999999999999998,0.08660254037844387,101.062789188]\n",
      "Hub crossing at idx 1 and radially at 0.1 with AD15 hub radius of 0.1\n",
      "Moving strut point from [0.05000000000000003,-0.08660254037844385,101.062789188] to [0.05000000000000003,-0.08660254037844385,101.062789188]\n",
      "┌ Error: The windio grids must all be the same for a given component at this time\n",
      "└ @ OWENS ~/work/OWENS.jl/OWENS.jl/src/io/fileio.jl:38\n",
      "┌ Error: The windio grids must all be the same for a given component at this time\n",
      "└ @ OWENS ~/work/OWENS.jl/OWENS.jl/src/io/fileio.jl:38\n",
      "┌ Error: The windio grids must all be the same for a given component at this time\n",
      "└ @ OWENS ~/work/OWENS.jl/OWENS.jl/src/io/fileio.jl:38\n",
      "Opening AeroDyn-Inflow library at: /home/runner/.julia/artifacts/40e731aa229ee668f59fa694053de285aeb6d77f/lib/libaerodyn_inflow_c_binding.so\n",
      "\n",
      " **************************************************************************************************\n",
      " AeroDyn-Inflow library\n",
      "\n",
      " Copyright (C) 2024 National Renewable Energy Laboratory\n",
      " Copyright (C) 2024 Envision Energy USA LTD\n",
      "\n",
      " This program is licensed under Apache License Version 2.0 and comes with ABSOLUTELY NO WARRANTY.\n",
      " See the \"LICENSE\" file distributed with this software for details.\n",
      " **************************************************************************************************\n",
      "\n",
      " AeroDyn-Inflow library-v2.5.0-3490-g24c05a74\n",
      " Compile Info:\n",
      "  - Compiler: GCC version 8.1.0\n",
      "  - Architecture: 64 bit\n",
      "  - Precision: double\n",
      "  - OpenMP: No\n",
      "  - Date: Nov  5 2024\n",
      "  - Time: 02:19:23\n",
      " Execution Info:\n",
      "  - Date: 07/23/2025\n",
      "  - Time: 10:48:45+0000\n",
      "\n",
      " Running ADI.\n",
      " Running AeroDyn.\n",
      " Running OLAF.\n",
      "  - Directory:         /home/runner/work/OWENS.jl/OWENS.jl/docs/src/examples\n",
      "  - RootName:          /home/runner/work/OWENS.jl/OWENS.jl/examples/literate/aerodyn.\n",
      "  - Reading advanced options for OLAF:\n",
      " [WARN] Line ignored: \"VERT2\"   DEFAULT      -10       30.   400     5.      5.     1     5.136    15.136  100\n",
      "  - OLAF regularization parameters (for wing 1):\n",
      "    WingReg (min/max) :  12.2425 23.9214\n",
      "    WakeReg (min/max) :  12.2425 23.9214\n",
      "    k = alpha delta nu:   0.0368\n",
      " Running InflowWind.\n",
      "┌ Warning: Not using the componetized model is being depreciated, please consider updating to return_componentized=true\n",
      "└ @ OWENS ~/work/OWENS.jl/OWENS.jl/src/preprocessing/SetupTurbine.jl:292\n",
      "Running Unsteady\n",
      "Running in specified rotor speed mode\n",
      "\n",
      "\r5.3%┣██▎                                        ┫ 1/19 [00:00<Inf:Inf, InfGs/it]\n",
      " [INFO] FVW: Update States: reevaluation at the same starting time.  This will not print on\n",
      " subsequent occurences.\n",
      "\u001b[1A\r10.5%┣████▉                                         ┫ 2/19 [00:15<04:21, 15s/it]\n",
      "\u001b[1A\r15.8%┣███████▍                                       ┫ 3/19 [00:18<02:23, 9s/it]\n",
      "\u001b[1A\r21.1%┣██████████                                     ┫ 4/19 [00:20<01:41, 7s/it]\n",
      "\u001b[1A\r26.3%┣████████████▍                                  ┫ 5/19 [00:22<01:18, 6s/it]\n",
      "\u001b[1A\r31.6%┣██████████████▉                                ┫ 6/19 [00:24<01:03, 5s/it]\n",
      "\u001b[1A\r36.8%┣█████████████████▎                             ┫ 7/19 [00:26<00:52, 4s/it]\n",
      "\u001b[1A\r42.1%┣███████████████████▉                           ┫ 8/19 [00:28<00:44, 4s/it]\n",
      "\u001b[1A\r47.4%┣██████████████████████▎                        ┫ 9/19 [00:30<00:37, 4s/it]\n",
      "\u001b[1A\r52.6%┣████████████████████████▏                     ┫ 10/19 [00:32<00:32, 4s/it]\n",
      "\u001b[1A\r57.9%┣██████████████████████████▋                   ┫ 11/19 [00:34<00:27, 3s/it]\n",
      "\u001b[1A\r63.2%┣█████████████████████████████                 ┫ 12/19 [00:36<00:23, 3s/it]\n",
      "\u001b[1A\r68.4%┣███████████████████████████████▌              ┫ 13/19 [00:37<00:19, 3s/it]\n",
      "\u001b[1A\r73.7%┣██████████████████████████████████            ┫ 14/19 [00:39<00:15, 3s/it]\n",
      "\u001b[1A\r78.9%┣████████████████████████████████████▎         ┫ 15/19 [00:41<00:12, 3s/it]\n",
      "\u001b[1A\r84.2%┣██████████████████████████████████████▊       ┫ 16/19 [00:43<00:09, 3s/it]\n",
      "\u001b[1A\r89.5%┣█████████████████████████████████████████▏    ┫ 17/19 [00:44<00:05, 3s/it]\n",
      "\u001b[1A\r94.7%┣███████████████████████████████████████████▋  ┫ 18/19 [00:45<00:03, 3s/it]\n",
      "\u001b[1A\r100.0%┣█████████████████████████████████████████████┫ 19/19 [00:47<00:00, 3s/it]\n",
      "Simulation Complete.\n",
      " >>> FINAL WRITE\n",
      "Saving VTK time domain files\n",
      "┌ Warning: extractSF is being depreciated in favor of safetyfactor_fatigue, which uses the componetized workflow\n",
      "└ @ OWENS ~/work/OWENS.jl/OWENS.jl/src/postprocess/PostProcessing.jl:662\n",
      "Composite Ultimate and Buckling Safety Factors\n",
      "\n",
      "\n",
      "UPPER BLADE SURFACE\n",
      "Minimum Safety Factor on Surface: 6.559609574139627\n",
      "At time 0.19s at composite station 23 of 31 at lam 5 of 6\n",
      "Maximum Damage per hr: 6.719332186766936e-10\n",
      "At composite station 23 of 31 at lam 5 of 6\n",
      "\n",
      "\n",
      "LOWER BLADE SURFACE\n",
      "Minimum Safety Factor on Surface: 7.05659360448889\n",
      "At time 0.19s at composite station 3 of 31 at lam 6 of 6\n",
      "Maximum Damage per hr: 4.4611442228557124e-10\n",
      "At composite station 3 of 31 at lam 6 of 6\n",
      "\n",
      "\n",
      "UPPER TOWER\n",
      "\n",
      "Minimum Safety Factor on tower Surface: 7.605660675062499\n",
      "At time 0.19s at composite station 21 of 21 at lam 1 of 1\n",
      "Maximum Damage per hr: 2.945077494891028e-10\n",
      "At composite station 21 of 21 at lam 1 of 1\n",
      "\n",
      "\n",
      "Lower TOWER\n",
      "\n",
      "Minimum Safety Factor on tower Surface: 7.272118240921332\n",
      "At time 0.19s at composite station 21 of 21 at lam 1 of 1\n",
      "Maximum Damage per hr: 3.6503522193589015e-10\n",
      "At composite station 21 of 21 at lam 1 of 1\n",
      "\n",
      "Mass of Turbine: 385923.43991763564 kg\n",
      "WRITING Output File to nothing\n"
     ]
    }
   ],
   "cell_type": "code",
   "source": [
    "import OWENS\n",
    "\n",
    "runpath = path = \"/home/runner/work/OWENS.jl/OWENS.jl/examples/literate\" # to run locally, change to splitdir(@__FILE__)[1]\n",
    "# runpath = path = splitdir(@__FILE__)[1]\n",
    "\n",
    "modelopt = OWENS.ModelingOptions(\"$(path)/OWENS_Opt.yml\")\n",
    "designparams = OWENS.Design_Data(\"$path/WINDIO_example.yaml\")\n",
    "\n",
    "OWENS.runOWENSWINDIO(modelopt,designparams,runpath)"
   ],
   "metadata": {},
   "execution_count": 1
  },
  {
   "cell_type": "markdown",
   "source": [
    "Here is an example of using the same model against the automated DLC run script. TODO: issue with CI version of turbsim\n",
    "Note that for a setup cutom to a specific design, you'll want to go to the B level to get all of the detailed inputs correct\n",
    "One of these is the controller where a discon controller library can be coupled instead of the specified RPM control."
   ],
   "metadata": {}
  },
  {
   "cell_type": "markdown",
   "source": [
    "modelopt.DLC_Options.DLCs = [\"1_1\"] #\"normal\"\n",
    "#### modelopt.DLC_Options.DLCs = [\"1_3\",\"6_1\"] #\"normal\""
   ],
   "metadata": {}
  },
  {
   "cell_type": "markdown",
   "source": [
    "OWENS.runDLC(modelopt,designparams,runpath)"
   ],
   "metadata": {}
  },
  {
   "outputs": [],
   "cell_type": "code",
   "source": [
    "nothing"
   ],
   "metadata": {},
   "execution_count": 2
  },
  {
   "cell_type": "markdown",
   "source": [
    "---\n",
    "\n",
    "*This notebook was generated using [Literate.jl](https://github.com/fredrikekre/Literate.jl).*"
   ],
   "metadata": {}
  }
 ],
 "nbformat_minor": 3,
 "metadata": {
  "language_info": {
   "file_extension": ".jl",
   "mimetype": "application/julia",
   "name": "julia",
   "version": "1.11.6"
  },
  "kernelspec": {
   "name": "julia-1.11",
   "display_name": "Julia 1.11.6",
   "language": "julia"
  }
 },
 "nbformat": 4
}
