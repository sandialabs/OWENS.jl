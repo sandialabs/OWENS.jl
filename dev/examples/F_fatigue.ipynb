{
 "cells": [
  {
   "cell_type": "markdown",
   "source": [
    "# Fatigue Analysis\n",
    "\n",
    "In this example, we illustrate how to use OWENS for fatigue damage calculation, including correction for non-zero mean stress.\n",
    "We also walk step by step, showing intermediate results to show what is going on behind the hood.\n",
    "This example also serves as validation for the mean correction by comparing to experimental data."
   ],
   "metadata": {}
  },
  {
   "outputs": [],
   "cell_type": "code",
   "source": [
    "using OWENS\n",
    "using Statistics\n",
    "using Random\n",
    "using Plots"
   ],
   "metadata": {},
   "execution_count": 1
  },
  {
   "cell_type": "markdown",
   "source": [
    "## **1.** Experimental Data\n",
    "Data from\n",
    "> Figure 9.26 Axial loading S-N curves at various mean stresses for unnotched specimens of an aluminum alloy. The curves connect average fatigue strengths for a number of lots of material. (Data from [Howell 55].)\n",
    "\n",
    "in *\"Mechanical Behavior of Materials, 4th Edition\" -Norman E. Dowling*"
   ],
   "metadata": {}
  },
  {
   "outputs": [],
   "cell_type": "code",
   "source": [
    "# Experimental Data\n",
    "ncycle_log_exp = [4, 5, 6, 7, 8.7]\n",
    "ncycles_exp = 10 .^ ncycle_log_exp\n",
    "mean_0 = [365.7, 260.3, 190.1, 157.2, 136.3]\n",
    "mean_138 = [316.2, 219.4, 155.8, 127.8, 117.2]\n",
    "mean_276 = [249.7, 173.1, 123.9, 103.1, 95.6]\n",
    "mean_414 = [157.3, 114.3, 84.2, 69.7, 67.7]\n",
    "mean_n138 = [missing, missing, 218.0, 176.8, 157.1];\n",
    "nothing"
   ],
   "metadata": {},
   "execution_count": 2
  },
  {
   "cell_type": "markdown",
   "source": [
    "Material properties:"
   ],
   "metadata": {}
  },
  {
   "outputs": [],
   "cell_type": "code",
   "source": [
    "ultimate_strength = 572e6\n",
    "sn_stress = mean_0 * 1e6\n",
    "sn_log_cycles = log10.(ncycles_exp)\n",
    "nothing"
   ],
   "metadata": {},
   "execution_count": 3
  },
  {
   "cell_type": "markdown",
   "source": [
    "## **2.** Stress Time-Series\n",
    "Synthetic stress time series to approximate the effect of a sinusoidal stress loading.\n",
    "The rainflow count cannot handle single sinusoidal time-series so we add some noise."
   ],
   "metadata": {}
  },
  {
   "outputs": [],
   "cell_type": "code",
   "source": [
    "ncyc, npercyc = 10, 10_000\n",
    "time = range(0, stop=2π * ncyc, length=ncyc * npercyc)\n",
    "function stress(stress_amplitude, stress_mean)\n",
    "    return stress_amplitude * cos.(time) .+ stress_mean + randn(length(time)) * stress_amplitude * 0.01\n",
    "end\n",
    "nothing"
   ],
   "metadata": {},
   "execution_count": 4
  },
  {
   "cell_type": "markdown",
   "source": [
    "### **2.1** Example\n",
    "Example synthetic stress time-series for one of the points on the graph."
   ],
   "metadata": {}
  },
  {
   "outputs": [
    {
     "name": "stdout",
     "output_type": "stream",
     "text": [
      "Stress amplitude: 260.3 MPa\n",
      "Mean stress: 138.0 MPa\n"
     ]
    }
   ],
   "cell_type": "code",
   "source": [
    "stress_amplitude, stress_mean = sn_stress[2], 138e6\n",
    "println(\"Stress amplitude: $(stress_amplitude*1e-6) MPa\")\n",
    "println(\"Mean stress: $(stress_mean*1e-6) MPa\")\n",
    "\n",
    "# plot\n",
    "plot(time, stress(stress_amplitude, stress_mean) * 1e-6, label=:none, xlabel=\"Time (s)\", ylabel=\"Stress (MPa)\", title=\"Stress Cycle\", grid=true, xlims=[time[begin], time[end]])\n",
    "hline!([0,], c=:black, label=:none)\n",
    "hline!([stress_mean] * 1e-6, c=:black, label=:none, linestyle=:dashdot)\n",
    "hline!([stress_mean + stress_amplitude, stress_mean - stress_amplitude] * 1e-6, c=:black, label=:none, linestyle=:dash)\n",
    "nothing"
   ],
   "metadata": {},
   "execution_count": 5
  },
  {
   "cell_type": "markdown",
   "source": [
    "## **3.** OWENS\n",
    "Calculating the effective S-N curve and total damage accounting for Goodman mean correction using OWENS.\n",
    "### 3.1 Effective S-N Curves\n",
    "#### 3.1.1 Example\n",
    "We'll walk step-by-step for one case (same example as above). Note that this is merely a numerical trick to obtain the effective S-N curve when dealing with sinusoidal loading. We're doing this to compare with the experimental data as verification. A more realistic and straightforward use of OWENS to calculate the damage from an arbitrary stress signal is presented in Section 3.2.\n",
    "First, we compute the rainflow count accounting for mean correction."
   ],
   "metadata": {}
  },
  {
   "outputs": [],
   "cell_type": "code",
   "source": [
    "nbins_amplitude, nbins_mean = 21, 3\n",
    "mean_levels, amplitude_levels, ncycles, amplitude_levels_effective = OWENS.rainflow_mean_corrected(stress(stress_amplitude, stress_mean), ultimate_strength; nbins_amplitude, nbins_mean)\n",
    "nothing"
   ],
   "metadata": {},
   "execution_count": 6
  },
  {
   "cell_type": "markdown",
   "source": [
    "The mean level at the center position corresponds to our desired mean level."
   ],
   "metadata": {}
  },
  {
   "outputs": [
    {
     "name": "stdout",
     "output_type": "stream",
     "text": [
      "Real mean stress: 138.0 MPa\n",
      "Center bin mean stress: 137.71655856866238 MPa\n"
     ]
    },
    {
     "output_type": "display_data",
     "data": {
      "text/plain": "3-element Vector{Float64}:\n -38.42062896038105\n 137.71655856866238\n 313.8537460977058"
     },
     "metadata": {}
    }
   ],
   "cell_type": "code",
   "source": [
    "mean_bins_mid = ceil(Int, nbins_mean / 2)\n",
    "display(mean_levels * 1e-6)\n",
    "println(\"Real mean stress: $(stress_mean*1e-6) MPa\")\n",
    "println(\"Center bin mean stress: $(mean_levels[mean_bins_mid]*1e-6) MPa\")\n",
    "nothing"
   ],
   "metadata": {},
   "execution_count": 7
  },
  {
   "cell_type": "markdown",
   "source": [
    "The stress amplitude level at the final position corresponds to our desired mean level."
   ],
   "metadata": {}
  },
  {
   "outputs": [
    {
     "name": "stdout",
     "output_type": "stream",
     "text": [
      "Real stress amplitude: 260.3 MPa\n",
      "Center bin stress amplitude: 262.21420328802617 MPa\n"
     ]
    },
    {
     "output_type": "display_data",
     "data": {
      "text/plain": "21-element Vector{Float64}:\n   6.395468372877311\n  19.186405118635964\n  31.97734186439327\n  44.76827861015058\n  57.55921535590789\n  70.3501521016652\n  83.14108884742251\n  95.93202559317982\n 108.72296233893712\n 121.51389908469443\n   ⋮\n 159.88670932196635\n 172.67764606772366\n 185.46858281348096\n 198.2595195592383\n 211.05045630499558\n 223.84139305075288\n 236.63232979651022\n 249.42326654226756\n 262.21420328802617"
     },
     "metadata": {}
    }
   ],
   "cell_type": "code",
   "source": [
    "display(amplitude_levels * 1e-6)\n",
    "println(\"Real stress amplitude: $(stress_amplitude*1e-6) MPa\")\n",
    "println(\"Center bin stress amplitude: $(amplitude_levels[end]*1e-6) MPa\")\n",
    "nothing"
   ],
   "metadata": {},
   "execution_count": 8
  },
  {
   "cell_type": "markdown",
   "source": [
    "We can verify that the count at the corresponding bin is 10."
   ],
   "metadata": {}
  },
  {
   "outputs": [
    {
     "name": "stdout",
     "output_type": "stream",
     "text": [
      "Cycles at desired bin: 10.0\n"
     ]
    },
    {
     "output_type": "display_data",
     "data": {
      "text/plain": "21×3 Matrix{Float64}:\n 13010.0  7315.0  13003.5\n     0.0     0.0      0.0\n     0.0     0.0      0.0\n     0.0     0.0      0.0\n     0.0     0.0      0.0\n     0.0     0.0      0.0\n     0.0     0.0      0.0\n     0.0     0.0      0.0\n     0.0     0.0      0.0\n     0.0     0.0      0.0\n     ⋮            \n     0.0     0.0      0.0\n     0.0     0.0      0.0\n     0.0     0.0      0.0\n     0.0     0.0      0.0\n     0.0     0.0      0.0\n     0.0     0.0      0.0\n     0.0     0.0      0.0\n     0.0     0.0      0.0\n     0.0    10.0      0.0"
     },
     "metadata": {}
    }
   ],
   "cell_type": "code",
   "source": [
    "display(ncycles)\n",
    "println(\"Cycles at desired bin: $(ncycles[end, mean_bins_mid])\")\n",
    "nothing"
   ],
   "metadata": {},
   "execution_count": 9
  },
  {
   "cell_type": "markdown",
   "source": [
    "The effective amplitude is higher than the real amplitude due to the effect of the non-zero mean."
   ],
   "metadata": {}
  },
  {
   "outputs": [
    {
     "name": "stdout",
     "output_type": "stream",
     "text": [
      "Real stress amplitude: 260.3 MPa\n",
      "Effective stress amplitude: 345.36551471181195 MPa\n"
     ]
    }
   ],
   "cell_type": "code",
   "source": [
    "println(\"Real stress amplitude: $(stress_amplitude*1e-6) MPa\")\n",
    "println(\"Effective stress amplitude: $(amplitude_levels_effective[end, mean_bins_mid]*1e-6) MPa\")\n",
    "nothing"
   ],
   "metadata": {},
   "execution_count": 10
  },
  {
   "cell_type": "markdown",
   "source": [
    "We now use the effective amplitude to calculate the number of cycles to failure for this amplitude and mean."
   ],
   "metadata": {}
  },
  {
   "outputs": [],
   "cell_type": "code",
   "source": [
    "log_ncycles_fail = OWENS.sn_curve_mean_corrected(sn_stress, sn_log_cycles, amplitude_levels_effective)\n",
    "nothing"
   ],
   "metadata": {},
   "execution_count": 11
  },
  {
   "cell_type": "markdown",
   "source": [
    "The effective S-N point is then:"
   ],
   "metadata": {}
  },
  {
   "outputs": [
    {
     "name": "stdout",
     "output_type": "stream",
     "text": [
      "Point on effective S-N curve for mean=138.0 MPa\n",
      "    N-cycles to failure: 10^4.157993336206181\n",
      "    Stress amplitude: 260.3 MPa\n"
     ]
    }
   ],
   "cell_type": "code",
   "source": [
    "println(\"Point on effective S-N curve for mean=$(stress_mean*1e-6) MPa\")\n",
    "println(\"    N-cycles to failure: 10^$(log_ncycles_fail[end, mean_bins_mid])\")\n",
    "println(\"    Stress amplitude: $(stress_amplitude*1e-6) MPa\")\n",
    "nothing"
   ],
   "metadata": {},
   "execution_count": 12
  },
  {
   "cell_type": "markdown",
   "source": [
    "#### **3.1.2** Effective S-N Curves\n",
    "The experimental S-N curve has a limited range, and because of the interpolation required (interpolation based on stress amplitude), we can only perform the verification for a few points."
   ],
   "metadata": {}
  },
  {
   "outputs": [],
   "cell_type": "code",
   "source": [
    "# 138\n",
    "stress_mean = 138e6\n",
    "stress_amplitudes_138 = sn_stress[1:4]\n",
    "logN_138 = zeros(0)\n",
    "for stress_amplitude in stress_amplitudes_138\n",
    "    mean_levels, amplitude_levels, ncycles, amplitude_levels_effective = OWENS.rainflow_mean_corrected(stress(stress_amplitude, stress_mean), ultimate_strength; nbins_amplitude, nbins_mean)\n",
    "    log_ncycles_fail = OWENS.sn_curve_mean_corrected(sn_stress, sn_log_cycles, amplitude_levels_effective)\n",
    "    append!(logN_138, log_ncycles_fail[end, mean_bins_mid])\n",
    "end\n",
    "\n",
    "# -138\n",
    "stress_mean = -138e6\n",
    "stress_amplitudes_n138 = sn_stress[3:5]\n",
    "logN_n138 = zeros(0)\n",
    "for stress_amplitude in stress_amplitudes_n138\n",
    "    mean_levels, amplitude_levels, ncycles, amplitude_levels_effective = OWENS.rainflow_mean_corrected(stress(stress_amplitude, stress_mean), ultimate_strength; nbins_amplitude, nbins_mean)\n",
    "    log_ncycles_fail = OWENS.sn_curve_mean_corrected(sn_stress, sn_log_cycles, amplitude_levels_effective)\n",
    "    append!(logN_n138, log_ncycles_fail[end, mean_bins_mid])\n",
    "end\n",
    "\n",
    "# 276\n",
    "stress_mean = 276e6\n",
    "stress_amplitudes_276 = sn_stress[1:2]\n",
    "logN_276 = zeros(0)\n",
    "for stress_amplitude in stress_amplitudes_276\n",
    "    mean_levels, amplitude_levels, ncycles, amplitude_levels_effective = OWENS.rainflow_mean_corrected(stress(stress_amplitude, stress_mean), ultimate_strength; nbins_amplitude, nbins_mean)\n",
    "    log_ncycles_fail = OWENS.sn_curve_mean_corrected(sn_stress, sn_log_cycles, amplitude_levels_effective)\n",
    "    append!(logN_276, log_ncycles_fail[end, mean_bins_mid])\n",
    "end\n",
    "\n",
    "# plot\n",
    "color_0 = :black\n",
    "color_138, color_276, color_414 = :blue, :red, :green\n",
    "markersize, markercolor = 5, :white\n",
    "# mean\n",
    "plot(ncycles_exp, mean_0, label=:none, color=color_0, lw=3, xaxis=:log, title=\"Experimental S-N Curves for 7075-T6 Aluminum\\nkt=1, axial\", xlabel=\"Cycles to Faliures\", ylabel=\"Stress Amplitude (MPa)\", legend=:topright, grid=true)\n",
    "scatter!(ncycles_exp, mean_0, label=\"σₘ=0\", color=markercolor, markerstrokecolor=color_0, markersize=markersize)\n",
    "# positive\n",
    "for (mean, color, label) in zip([mean_138, mean_276, mean_414], [color_138, color_276, color_414], [138, 276, 414])\n",
    "    plot!(ncycles_exp, mean, label=:none, color=color)\n",
    "    scatter!(ncycles_exp, mean, label=\"σₘ=$label MPa\", color=markercolor, markerstrokecolor=color, markersize=markersize)\n",
    "end\n",
    "# negative\n",
    "for (mean, color, label) in zip([mean_n138,], [color_138,], [-138,])\n",
    "    plot!(ncycles_exp, mean, label=:none, color=color, linestyle=:dash)\n",
    "    scatter!(ncycles_exp, mean, label=\"σₘ=$label MPa\", color=markercolor, markerstrokecolor=color, markersize=markersize)\n",
    "end\n",
    "# Miner's rule + Goodman's correction\n",
    "plot!(10 .^ logN_138, stress_amplitudes_138 * 1e-6, color=color_138, markershape=:star5, markerstrokecolor=color_138, markersize=markersize, label=\"OWENS: σₘ=138 MPa\")\n",
    "plot!(10 .^ logN_276, stress_amplitudes_276 * 1e-6, color=color_276, markershape=:star5, markerstrokecolor=color_276, markersize=markersize, label=\"OWENS: σₘ=276 MPa\")\n",
    "plot!(10 .^ logN_n138, stress_amplitudes_n138 * 1e-6, color=color_138, linestyle=:dashdot, markershape=:star5, markerstrokecolor=color_138, markersize=markersize, label=\"OWENS: σₘ=-138 MPa\")\n",
    "plot!()\n",
    "nothing"
   ],
   "metadata": {},
   "execution_count": 13
  },
  {
   "cell_type": "markdown",
   "source": [
    "### **3.2** Damage\n",
    "In most cases we simply want to calculate the damage (not plot effective S-N curves as above) due to an arbitrary stress timeseries. We can do this with a single function call to OWENS. The damage is calculated using Miner's rule with Goodman's mean correction. A damage of 1 or greater indicates failure. We'll use a different example since the S-N curves above do not cover a large enough range of stress amplitude for calculating damage from a random signal."
   ],
   "metadata": {}
  },
  {
   "cell_type": "markdown",
   "source": [
    "#### **3.2.1** Stress Time Series\n",
    "Let's create a random stress timeseries."
   ],
   "metadata": {}
  },
  {
   "outputs": [],
   "cell_type": "code",
   "source": [
    "amplitude, mean = 150e6, 30e6\n",
    "time = 1:1000\n",
    "rng = Xoshiro(1) # seed for reproducibility\n",
    "stress_timeseries = (rand(rng, length(time)) .- 0.5) * amplitude .+ mean\n",
    "\n",
    "plot(time, stress_timeseries; xlabel=\"time [s]\", ylabel=\"stress [Pa]\", label=nothing, xlim=(0, Inf))\n",
    "hline!([mean], label=nothing, color=:black, linestyle=:dash)\n",
    "hline!([0], label=nothing, color=:black, linestyle=:solid)\n",
    "nothing"
   ],
   "metadata": {},
   "execution_count": 14
  },
  {
   "cell_type": "markdown",
   "source": [
    "#### **3.2.2** Material Properties"
   ],
   "metadata": {}
  },
  {
   "outputs": [
    {
     "name": "stdout",
     "output_type": "stream",
     "text": [
      "Ultimate strength: 5.0e8 Pa\n"
     ]
    }
   ],
   "cell_type": "code",
   "source": [
    "# Ultimate strength\n",
    "ultimate_strength = 500e6\n",
    "println(\"Ultimate strength: \", ultimate_strength, \" Pa\")\n",
    "nothing\n",
    "\n",
    "# S-N curve\n",
    "failure_strength_coefficient = 250e6\n",
    "fatigue_exponent = -0.12\n",
    "ncycles = 1:1000:(1e5+1)\n",
    "sn_log_cycles = log10.(ncycles)\n",
    "sn_stress = failure_strength_coefficient * ncycles .^ fatigue_exponent\n",
    "ncycles = vcat(ncycles, 1e7)\n",
    "sn_log_cycles = vcat(sn_log_cycles, log10(1e7))\n",
    "sn_stress = vcat(sn_stress, 1e5)\n",
    "plot(ncycles, sn_stress; xscale=:log10, xlabel=\"log(cycles)\", ylabel=\"stress [Pa]\", label=nothing)\n",
    "nothing"
   ],
   "metadata": {},
   "execution_count": 15
  },
  {
   "cell_type": "markdown",
   "source": [
    "#### **3.2.3** Fatigue Damage"
   ],
   "metadata": {}
  },
  {
   "outputs": [
    {
     "name": "stdout",
     "output_type": "stream",
     "text": [
      "Damage: 0.0026325250504652636\n"
     ]
    }
   ],
   "cell_type": "code",
   "source": [
    "damage = OWENS.fatigue_damage(stress_timeseries, sn_stress, sn_log_cycles, ultimate_strength; nbins_amplitude=21, nbins_mean=3, mean_correction=true)\n",
    "println(\"Damage: \", damage)\n",
    "nothing"
   ],
   "metadata": {},
   "execution_count": 16
  },
  {
   "cell_type": "markdown",
   "source": [
    "---\n",
    "\n",
    "*This notebook was generated using [Literate.jl](https://github.com/fredrikekre/Literate.jl).*"
   ],
   "metadata": {}
  }
 ],
 "nbformat_minor": 3,
 "metadata": {
  "language_info": {
   "file_extension": ".jl",
   "mimetype": "application/julia",
   "name": "julia",
   "version": "1.11.5"
  },
  "kernelspec": {
   "name": "julia-1.11",
   "display_name": "Julia 1.11.5",
   "language": "julia"
  }
 },
 "nbformat": 4
}
